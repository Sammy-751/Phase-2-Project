{
 "cells": [
  {
   "cell_type": "markdown",
   "id": "e71d09be",
   "metadata": {},
   "source": [
    "## VIEWERS PRODUCTION STUDIO ##"
   ]
  },
  {
   "cell_type": "markdown",
   "id": "f586b306",
   "metadata": {},
   "source": [
    "## Problem Statement"
   ]
  },
  {
   "cell_type": "markdown",
   "id": "f1788c0a",
   "metadata": {},
   "source": [
    "The corporation faces the difficulty of having no past filmmaking experience when it enters the movie business by opening a new studio.  In order to make lucrative judgements, the studio must have a thorough understanding of current market trends.  In order to determine the primary elements that contribute to box office performance, this study will examine historical film data, with a particular emphasis on genres, production expenditures, and release dates.  The results will help the studio choose which kinds of films to make and release in a strategic manner."
   ]
  },
  {
   "cell_type": "markdown",
   "id": "38fb0490",
   "metadata": {},
   "source": [
    "## Business Objectives"
   ]
  },
  {
   "cell_type": "markdown",
   "id": "f4f08387",
   "metadata": {},
   "source": [
    "**1. Maximize Box Office revenue by focussing on high-perfoming genres.**"
   ]
  },
  {
   "cell_type": "markdown",
   "id": "85b634ec",
   "metadata": {},
   "source": [
    "Determine the most lucrative film genres (adventures, action, animation) and give priority to making films in these categories.  Utilise analysis data to concentrate on film genres that have historically brought in the most money at the box office.  For example, a studio can devote more resources to making action films if data indicates that they routinely generate more gross receipts than other genres."
   ]
  },
  {
   "cell_type": "markdown",
   "id": "38b5f498",
   "metadata": {},
   "source": [
    "**2. Timing film releases to maximize audience reach and revenue.**"
   ]
  },
  {
   "cell_type": "markdown",
   "id": "9dd98fe4",
   "metadata": {},
   "source": [
    "Plan your movie releases for peak seasons (summer and holidays) to take advantage of increased attendance and boost profits.  Planning for a film's release might be aided by past performance data by month of release.  The studio can schedule the majority of important releases around these times if analysis demonstrates that films produced in the summer regularly bring in greater money."
   ]
  },
  {
   "cell_type": "markdown",
   "id": "ebc69b33",
   "metadata": {},
   "source": [
    "**3. Optimize film budgets to achieve high return on investment.**"
   ]
  },
  {
   "cell_type": "markdown",
   "id": "bed9abdc",
   "metadata": {},
   "source": [
    "Set the budget for new films in a way that maximises return on investment without appreciably raising risk.  Drawing on the correlation between production budgets and box office performance, the studio can implement a strategy that ensures a higher probability of profitability while avoiding excessive expenditure on films with diminishing returns.  According to the data, films with budgets in this category routinely yield the best returns on investment."
   ]
  },
  {
   "cell_type": "markdown",
   "id": "24c88c92",
   "metadata": {},
   "source": [
    "# DATA CLEANING"
   ]
  },
  {
   "cell_type": "code",
   "execution_count": 4,
   "id": "2df727ba",
   "metadata": {
    "scrolled": true
   },
   "outputs": [],
   "source": [
    "#First Notebook"
   ]
  },
  {
   "cell_type": "code",
   "execution_count": 5,
   "id": "2251edc6",
   "metadata": {},
   "outputs": [],
   "source": [
    "import pandas as pd\n",
    "import sqlite3\n",
    "import numpy as np\n",
    "import seaborn as sns\n",
    "import matplotlib.pyplot as plt\n",
    "from scipy import stats\n",
    "from scipy.stats import f_oneway"
   ]
  },
  {
   "cell_type": "code",
   "execution_count": 6,
   "id": "1d12ffbf",
   "metadata": {},
   "outputs": [
    {
     "name": "stdout",
     "output_type": "stream",
     "text": [
      "<class 'pandas.core.frame.DataFrame'>\n",
      "RangeIndex: 3387 entries, 0 to 3386\n",
      "Data columns (total 5 columns):\n",
      " #   Column          Non-Null Count  Dtype  \n",
      "---  ------          --------------  -----  \n",
      " 0   title           3387 non-null   object \n",
      " 1   studio          3382 non-null   object \n",
      " 2   domestic_gross  3359 non-null   float64\n",
      " 3   foreign_gross   2037 non-null   object \n",
      " 4   year            3387 non-null   int64  \n",
      "dtypes: float64(1), int64(1), object(3)\n",
      "memory usage: 132.4+ KB\n"
     ]
    }
   ],
   "source": [
    "df1=pd.read_csv('bom.movie_gross.csv')#merge\n",
    "df1.info()\n"
   ]
  },
  {
   "cell_type": "code",
   "execution_count": 7,
   "id": "566c204a",
   "metadata": {},
   "outputs": [
    {
     "data": {
      "text/plain": [
       "<bound method NDFrame.describe of                                             title      studio  domestic_gross  \\\n",
       "0                                     Toy Story 3          BV     415000000.0   \n",
       "1                      Alice in Wonderland (2010)          BV     334200000.0   \n",
       "2     Harry Potter and the Deathly Hallows Part 1          WB     296000000.0   \n",
       "3                                       Inception          WB     292600000.0   \n",
       "4                             Shrek Forever After        P/DW     238700000.0   \n",
       "...                                           ...         ...             ...   \n",
       "3382                                    The Quake       Magn.          6200.0   \n",
       "3383                  Edward II (2018 re-release)          FM          4800.0   \n",
       "3384                                     El Pacto        Sony          2500.0   \n",
       "3385                                     The Swan  Synergetic          2400.0   \n",
       "3386                            An Actor Prepares       Grav.          1700.0   \n",
       "\n",
       "     foreign_gross  year  \n",
       "0        652000000  2010  \n",
       "1        691300000  2010  \n",
       "2        664300000  2010  \n",
       "3        535700000  2010  \n",
       "4        513900000  2010  \n",
       "...            ...   ...  \n",
       "3382           NaN  2018  \n",
       "3383           NaN  2018  \n",
       "3384           NaN  2018  \n",
       "3385           NaN  2018  \n",
       "3386           NaN  2018  \n",
       "\n",
       "[3387 rows x 5 columns]>"
      ]
     },
     "execution_count": 7,
     "metadata": {},
     "output_type": "execute_result"
    }
   ],
   "source": [
    "df1.describe"
   ]
  },
  {
   "cell_type": "code",
   "execution_count": 8,
   "id": "59e0e1e2",
   "metadata": {},
   "outputs": [
    {
     "data": {
      "text/plain": [
       "title                0\n",
       "studio               5\n",
       "domestic_gross      28\n",
       "foreign_gross     1350\n",
       "year                 0\n",
       "dtype: int64"
      ]
     },
     "execution_count": 8,
     "metadata": {},
     "output_type": "execute_result"
    }
   ],
   "source": [
    "df1.isnull().sum()\n"
   ]
  },
  {
   "cell_type": "code",
   "execution_count": 9,
   "id": "76c61879",
   "metadata": {},
   "outputs": [
    {
     "data": {
      "text/plain": [
       "count      3387\n",
       "unique        1\n",
       "top       False\n",
       "freq       3387\n",
       "dtype: object"
      ]
     },
     "execution_count": 9,
     "metadata": {},
     "output_type": "execute_result"
    }
   ],
   "source": [
    "df1.duplicated().describe()"
   ]
  },
  {
   "cell_type": "code",
   "execution_count": 10,
   "id": "fcadb034",
   "metadata": {},
   "outputs": [
    {
     "data": {
      "text/plain": [
       "0    652000000.0\n",
       "1    691300000.0\n",
       "2    664300000.0\n",
       "3    535700000.0\n",
       "4    513900000.0\n",
       "Name: foreign_gross, dtype: float64"
      ]
     },
     "execution_count": 10,
     "metadata": {},
     "output_type": "execute_result"
    }
   ],
   "source": [
    "df1['foreign_gross'] = df1['foreign_gross'].str.replace(',', '', regex=False)\n",
    "df1['foreign_gross'] = pd.to_numeric(df1['foreign_gross'])\n",
    "df1['foreign_gross'].head()"
   ]
  },
  {
   "cell_type": "code",
   "execution_count": 11,
   "id": "08862bee",
   "metadata": {},
   "outputs": [
    {
     "data": {
      "text/plain": [
       "960500000.0"
      ]
     },
     "execution_count": 11,
     "metadata": {},
     "output_type": "execute_result"
    }
   ],
   "source": [
    "df1['foreign_gross'].max()"
   ]
  },
  {
   "cell_type": "code",
   "execution_count": 12,
   "id": "8bbd8693",
   "metadata": {
    "scrolled": true
   },
   "outputs": [
    {
     "data": {
      "text/plain": [
       "title             0\n",
       "studio            0\n",
       "domestic_gross    0\n",
       "foreign_gross     0\n",
       "year              0\n",
       "dtype: int64"
      ]
     },
     "execution_count": 12,
     "metadata": {},
     "output_type": "execute_result"
    }
   ],
   "source": [
    "df1['foreign_gross'].fillna(0, inplace=True)\n",
    "df1['studio'].fillna('Unknown', inplace=True)\n",
    "df1['domestic_gross'].fillna(0, inplace=True)\n",
    "df1.isnull().sum()"
   ]
  },
  {
   "cell_type": "code",
   "execution_count": 13,
   "id": "bf4982d8",
   "metadata": {},
   "outputs": [
    {
     "name": "stdout",
     "output_type": "stream",
     "text": [
      "<class 'pandas.core.frame.DataFrame'>\n",
      "RangeIndex: 3387 entries, 0 to 3386\n",
      "Data columns (total 5 columns):\n",
      " #   Column          Non-Null Count  Dtype  \n",
      "---  ------          --------------  -----  \n",
      " 0   title           3387 non-null   object \n",
      " 1   studio          3387 non-null   object \n",
      " 2   domestic_gross  3387 non-null   float64\n",
      " 3   foreign_gross   3387 non-null   float64\n",
      " 4   year            3387 non-null   int64  \n",
      "dtypes: float64(2), int64(1), object(2)\n",
      "memory usage: 132.4+ KB\n"
     ]
    }
   ],
   "source": [
    "df1.info()"
   ]
  },
  {
   "cell_type": "code",
   "execution_count": 14,
   "id": "8343f9fc",
   "metadata": {},
   "outputs": [
    {
     "data": {
      "text/html": [
       "<div>\n",
       "<style scoped>\n",
       "    .dataframe tbody tr th:only-of-type {\n",
       "        vertical-align: middle;\n",
       "    }\n",
       "\n",
       "    .dataframe tbody tr th {\n",
       "        vertical-align: top;\n",
       "    }\n",
       "\n",
       "    .dataframe thead th {\n",
       "        text-align: right;\n",
       "    }\n",
       "</style>\n",
       "<table border=\"1\" class=\"dataframe\">\n",
       "  <thead>\n",
       "    <tr style=\"text-align: right;\">\n",
       "      <th></th>\n",
       "      <th>title</th>\n",
       "      <th>studio</th>\n",
       "      <th>domestic_gross</th>\n",
       "      <th>foreign_gross</th>\n",
       "      <th>year</th>\n",
       "    </tr>\n",
       "  </thead>\n",
       "  <tbody>\n",
       "    <tr>\n",
       "      <th>0</th>\n",
       "      <td>Toy Story 3</td>\n",
       "      <td>BV</td>\n",
       "      <td>415000000.0</td>\n",
       "      <td>652000000.0</td>\n",
       "      <td>2010</td>\n",
       "    </tr>\n",
       "    <tr>\n",
       "      <th>1</th>\n",
       "      <td>Alice in Wonderland (2010)</td>\n",
       "      <td>BV</td>\n",
       "      <td>334200000.0</td>\n",
       "      <td>691300000.0</td>\n",
       "      <td>2010</td>\n",
       "    </tr>\n",
       "    <tr>\n",
       "      <th>2</th>\n",
       "      <td>Harry Potter and the Deathly Hallows Part 1</td>\n",
       "      <td>WB</td>\n",
       "      <td>296000000.0</td>\n",
       "      <td>664300000.0</td>\n",
       "      <td>2010</td>\n",
       "    </tr>\n",
       "    <tr>\n",
       "      <th>3</th>\n",
       "      <td>Inception</td>\n",
       "      <td>WB</td>\n",
       "      <td>292600000.0</td>\n",
       "      <td>535700000.0</td>\n",
       "      <td>2010</td>\n",
       "    </tr>\n",
       "    <tr>\n",
       "      <th>4</th>\n",
       "      <td>Shrek Forever After</td>\n",
       "      <td>P/DW</td>\n",
       "      <td>238700000.0</td>\n",
       "      <td>513900000.0</td>\n",
       "      <td>2010</td>\n",
       "    </tr>\n",
       "  </tbody>\n",
       "</table>\n",
       "</div>"
      ],
      "text/plain": [
       "                                         title studio  domestic_gross  \\\n",
       "0                                  Toy Story 3     BV     415000000.0   \n",
       "1                   Alice in Wonderland (2010)     BV     334200000.0   \n",
       "2  Harry Potter and the Deathly Hallows Part 1     WB     296000000.0   \n",
       "3                                    Inception     WB     292600000.0   \n",
       "4                          Shrek Forever After   P/DW     238700000.0   \n",
       "\n",
       "   foreign_gross  year  \n",
       "0    652000000.0  2010  \n",
       "1    691300000.0  2010  \n",
       "2    664300000.0  2010  \n",
       "3    535700000.0  2010  \n",
       "4    513900000.0  2010  "
      ]
     },
     "execution_count": 14,
     "metadata": {},
     "output_type": "execute_result"
    }
   ],
   "source": [
    "df1.head()"
   ]
  },
  {
   "cell_type": "code",
   "execution_count": 15,
   "id": "fcac943e",
   "metadata": {},
   "outputs": [
    {
     "name": "stdout",
     "output_type": "stream",
     "text": [
      "<class 'pandas.core.frame.DataFrame'>\n",
      "RangeIndex: 26517 entries, 0 to 26516\n",
      "Data columns (total 10 columns):\n",
      " #   Column             Non-Null Count  Dtype  \n",
      "---  ------             --------------  -----  \n",
      " 0   Unnamed: 0         26517 non-null  int64  \n",
      " 1   genre_ids          26517 non-null  object \n",
      " 2   id                 26517 non-null  int64  \n",
      " 3   original_language  26517 non-null  object \n",
      " 4   original_title     26517 non-null  object \n",
      " 5   popularity         26517 non-null  float64\n",
      " 6   release_date       26517 non-null  object \n",
      " 7   title              26517 non-null  object \n",
      " 8   vote_average       26517 non-null  float64\n",
      " 9   vote_count         26517 non-null  int64  \n",
      "dtypes: float64(2), int64(3), object(5)\n",
      "memory usage: 2.0+ MB\n"
     ]
    }
   ],
   "source": [
    "df2=pd.read_csv('tmdb.movies.csv')#merge\n",
    "df2.info()\n"
   ]
  },
  {
   "cell_type": "code",
   "execution_count": 16,
   "id": "a53c38f1",
   "metadata": {},
   "outputs": [],
   "source": [
    "df2 = df2.drop(columns=['Unnamed: 0'])\n",
    "df2['release_date'] = pd.to_datetime(df2['release_date'], errors='coerce')\n",
    "df2['release_date'] = df2['release_date'].dt.date"
   ]
  },
  {
   "cell_type": "code",
   "execution_count": 17,
   "id": "af97da6a",
   "metadata": {},
   "outputs": [
    {
     "data": {
      "text/plain": [
       "count     26517\n",
       "unique        2\n",
       "top       False\n",
       "freq      25497\n",
       "dtype: object"
      ]
     },
     "execution_count": 17,
     "metadata": {},
     "output_type": "execute_result"
    }
   ],
   "source": [
    "df2.duplicated().describe()"
   ]
  },
  {
   "cell_type": "code",
   "execution_count": 18,
   "id": "39f393ed",
   "metadata": {},
   "outputs": [],
   "source": [
    "df2.drop_duplicates(inplace=True)"
   ]
  },
  {
   "cell_type": "code",
   "execution_count": 19,
   "id": "217b89e6",
   "metadata": {},
   "outputs": [
    {
     "name": "stdout",
     "output_type": "stream",
     "text": [
      "<class 'pandas.core.frame.DataFrame'>\n",
      "Index: 25497 entries, 0 to 26516\n",
      "Data columns (total 9 columns):\n",
      " #   Column             Non-Null Count  Dtype  \n",
      "---  ------             --------------  -----  \n",
      " 0   genre_ids          25497 non-null  object \n",
      " 1   id                 25497 non-null  int64  \n",
      " 2   original_language  25497 non-null  object \n",
      " 3   original_title     25497 non-null  object \n",
      " 4   popularity         25497 non-null  float64\n",
      " 5   release_date       25497 non-null  object \n",
      " 6   title              25497 non-null  object \n",
      " 7   vote_average       25497 non-null  float64\n",
      " 8   vote_count         25497 non-null  int64  \n",
      "dtypes: float64(2), int64(2), object(5)\n",
      "memory usage: 1.9+ MB\n"
     ]
    }
   ],
   "source": [
    "df2.info()"
   ]
  },
  {
   "cell_type": "code",
   "execution_count": 20,
   "id": "0e0f2fbb",
   "metadata": {},
   "outputs": [
    {
     "data": {
      "text/html": [
       "<div>\n",
       "<style scoped>\n",
       "    .dataframe tbody tr th:only-of-type {\n",
       "        vertical-align: middle;\n",
       "    }\n",
       "\n",
       "    .dataframe tbody tr th {\n",
       "        vertical-align: top;\n",
       "    }\n",
       "\n",
       "    .dataframe thead th {\n",
       "        text-align: right;\n",
       "    }\n",
       "</style>\n",
       "<table border=\"1\" class=\"dataframe\">\n",
       "  <thead>\n",
       "    <tr style=\"text-align: right;\">\n",
       "      <th></th>\n",
       "      <th>genre_ids</th>\n",
       "      <th>id</th>\n",
       "      <th>original_language</th>\n",
       "      <th>original_title</th>\n",
       "      <th>popularity</th>\n",
       "      <th>release_date</th>\n",
       "      <th>title</th>\n",
       "      <th>vote_average</th>\n",
       "      <th>vote_count</th>\n",
       "    </tr>\n",
       "  </thead>\n",
       "  <tbody>\n",
       "    <tr>\n",
       "      <th>0</th>\n",
       "      <td>[12, 14, 10751]</td>\n",
       "      <td>12444</td>\n",
       "      <td>en</td>\n",
       "      <td>Harry Potter and the Deathly Hallows: Part 1</td>\n",
       "      <td>33.533</td>\n",
       "      <td>2010-11-19</td>\n",
       "      <td>Harry Potter and the Deathly Hallows: Part 1</td>\n",
       "      <td>7.7</td>\n",
       "      <td>10788</td>\n",
       "    </tr>\n",
       "    <tr>\n",
       "      <th>1</th>\n",
       "      <td>[14, 12, 16, 10751]</td>\n",
       "      <td>10191</td>\n",
       "      <td>en</td>\n",
       "      <td>How to Train Your Dragon</td>\n",
       "      <td>28.734</td>\n",
       "      <td>2010-03-26</td>\n",
       "      <td>How to Train Your Dragon</td>\n",
       "      <td>7.7</td>\n",
       "      <td>7610</td>\n",
       "    </tr>\n",
       "    <tr>\n",
       "      <th>2</th>\n",
       "      <td>[12, 28, 878]</td>\n",
       "      <td>10138</td>\n",
       "      <td>en</td>\n",
       "      <td>Iron Man 2</td>\n",
       "      <td>28.515</td>\n",
       "      <td>2010-05-07</td>\n",
       "      <td>Iron Man 2</td>\n",
       "      <td>6.8</td>\n",
       "      <td>12368</td>\n",
       "    </tr>\n",
       "    <tr>\n",
       "      <th>3</th>\n",
       "      <td>[16, 35, 10751]</td>\n",
       "      <td>862</td>\n",
       "      <td>en</td>\n",
       "      <td>Toy Story</td>\n",
       "      <td>28.005</td>\n",
       "      <td>1995-11-22</td>\n",
       "      <td>Toy Story</td>\n",
       "      <td>7.9</td>\n",
       "      <td>10174</td>\n",
       "    </tr>\n",
       "    <tr>\n",
       "      <th>4</th>\n",
       "      <td>[28, 878, 12]</td>\n",
       "      <td>27205</td>\n",
       "      <td>en</td>\n",
       "      <td>Inception</td>\n",
       "      <td>27.920</td>\n",
       "      <td>2010-07-16</td>\n",
       "      <td>Inception</td>\n",
       "      <td>8.3</td>\n",
       "      <td>22186</td>\n",
       "    </tr>\n",
       "  </tbody>\n",
       "</table>\n",
       "</div>"
      ],
      "text/plain": [
       "             genre_ids     id original_language  \\\n",
       "0      [12, 14, 10751]  12444                en   \n",
       "1  [14, 12, 16, 10751]  10191                en   \n",
       "2        [12, 28, 878]  10138                en   \n",
       "3      [16, 35, 10751]    862                en   \n",
       "4        [28, 878, 12]  27205                en   \n",
       "\n",
       "                                 original_title  popularity release_date  \\\n",
       "0  Harry Potter and the Deathly Hallows: Part 1      33.533   2010-11-19   \n",
       "1                      How to Train Your Dragon      28.734   2010-03-26   \n",
       "2                                    Iron Man 2      28.515   2010-05-07   \n",
       "3                                     Toy Story      28.005   1995-11-22   \n",
       "4                                     Inception      27.920   2010-07-16   \n",
       "\n",
       "                                          title  vote_average  vote_count  \n",
       "0  Harry Potter and the Deathly Hallows: Part 1           7.7       10788  \n",
       "1                      How to Train Your Dragon           7.7        7610  \n",
       "2                                    Iron Man 2           6.8       12368  \n",
       "3                                     Toy Story           7.9       10174  \n",
       "4                                     Inception           8.3       22186  "
      ]
     },
     "execution_count": 20,
     "metadata": {},
     "output_type": "execute_result"
    }
   ],
   "source": [
    "df2.head()"
   ]
  },
  {
   "cell_type": "code",
   "execution_count": 21,
   "id": "68d98115",
   "metadata": {},
   "outputs": [
    {
     "data": {
      "text/html": [
       "<div>\n",
       "<style scoped>\n",
       "    .dataframe tbody tr th:only-of-type {\n",
       "        vertical-align: middle;\n",
       "    }\n",
       "\n",
       "    .dataframe tbody tr th {\n",
       "        vertical-align: top;\n",
       "    }\n",
       "\n",
       "    .dataframe thead th {\n",
       "        text-align: right;\n",
       "    }\n",
       "</style>\n",
       "<table border=\"1\" class=\"dataframe\">\n",
       "  <thead>\n",
       "    <tr style=\"text-align: right;\">\n",
       "      <th></th>\n",
       "      <th>release_date</th>\n",
       "      <th>movie</th>\n",
       "      <th>production_budget</th>\n",
       "      <th>domestic_gross</th>\n",
       "      <th>worldwide_gross</th>\n",
       "    </tr>\n",
       "    <tr>\n",
       "      <th>id</th>\n",
       "      <th></th>\n",
       "      <th></th>\n",
       "      <th></th>\n",
       "      <th></th>\n",
       "      <th></th>\n",
       "    </tr>\n",
       "  </thead>\n",
       "  <tbody>\n",
       "    <tr>\n",
       "      <th>1</th>\n",
       "      <td>Dec 18, 2009</td>\n",
       "      <td>Avatar</td>\n",
       "      <td>$425,000,000</td>\n",
       "      <td>$760,507,625</td>\n",
       "      <td>$2,776,345,279</td>\n",
       "    </tr>\n",
       "    <tr>\n",
       "      <th>2</th>\n",
       "      <td>May 20, 2011</td>\n",
       "      <td>Pirates of the Caribbean: On Stranger Tides</td>\n",
       "      <td>$410,600,000</td>\n",
       "      <td>$241,063,875</td>\n",
       "      <td>$1,045,663,875</td>\n",
       "    </tr>\n",
       "    <tr>\n",
       "      <th>3</th>\n",
       "      <td>Jun 7, 2019</td>\n",
       "      <td>Dark Phoenix</td>\n",
       "      <td>$350,000,000</td>\n",
       "      <td>$42,762,350</td>\n",
       "      <td>$149,762,350</td>\n",
       "    </tr>\n",
       "    <tr>\n",
       "      <th>4</th>\n",
       "      <td>May 1, 2015</td>\n",
       "      <td>Avengers: Age of Ultron</td>\n",
       "      <td>$330,600,000</td>\n",
       "      <td>$459,005,868</td>\n",
       "      <td>$1,403,013,963</td>\n",
       "    </tr>\n",
       "    <tr>\n",
       "      <th>5</th>\n",
       "      <td>Dec 15, 2017</td>\n",
       "      <td>Star Wars Ep. VIII: The Last Jedi</td>\n",
       "      <td>$317,000,000</td>\n",
       "      <td>$620,181,382</td>\n",
       "      <td>$1,316,721,747</td>\n",
       "    </tr>\n",
       "  </tbody>\n",
       "</table>\n",
       "</div>"
      ],
      "text/plain": [
       "    release_date                                        movie  \\\n",
       "id                                                              \n",
       "1   Dec 18, 2009                                       Avatar   \n",
       "2   May 20, 2011  Pirates of the Caribbean: On Stranger Tides   \n",
       "3    Jun 7, 2019                                 Dark Phoenix   \n",
       "4    May 1, 2015                      Avengers: Age of Ultron   \n",
       "5   Dec 15, 2017            Star Wars Ep. VIII: The Last Jedi   \n",
       "\n",
       "   production_budget domestic_gross worldwide_gross  \n",
       "id                                                   \n",
       "1       $425,000,000   $760,507,625  $2,776,345,279  \n",
       "2       $410,600,000   $241,063,875  $1,045,663,875  \n",
       "3       $350,000,000    $42,762,350    $149,762,350  \n",
       "4       $330,600,000   $459,005,868  $1,403,013,963  \n",
       "5       $317,000,000   $620,181,382  $1,316,721,747  "
      ]
     },
     "execution_count": 21,
     "metadata": {},
     "output_type": "execute_result"
    }
   ],
   "source": [
    "df3=pd.read_csv('tn.movie_budgets.csv', index_col=0)#merge\n",
    "df3.head()\n"
   ]
  },
  {
   "cell_type": "code",
   "execution_count": 22,
   "id": "9a129f53",
   "metadata": {},
   "outputs": [],
   "source": [
    "def clean_conv(df,column):\n",
    "   for column in columns :\n",
    "       df[column] = df[column].str.replace(',', '', regex=False)\n",
    "       df[column] = df[column].str.replace('$', '', regex=False)\n",
    "       df[column] = pd.to_numeric(df[column])\n",
    "   return df"
   ]
  },
  {
   "cell_type": "code",
   "execution_count": 23,
   "id": "d0c43a95",
   "metadata": {},
   "outputs": [],
   "source": [
    "columns=['production_budget','domestic_gross','worldwide_gross']\n",
    "df3=clean_conv(df3,columns)"
   ]
  },
  {
   "cell_type": "code",
   "execution_count": 24,
   "id": "85e402e5",
   "metadata": {},
   "outputs": [],
   "source": [
    "df3['release_date'] = pd.to_datetime(df3['release_date'], errors='coerce')\n",
    "df3['release_date'] = df3['release_date'].dt.date"
   ]
  },
  {
   "cell_type": "code",
   "execution_count": 25,
   "id": "a60a3a69",
   "metadata": {},
   "outputs": [
    {
     "data": {
      "text/html": [
       "<div>\n",
       "<style scoped>\n",
       "    .dataframe tbody tr th:only-of-type {\n",
       "        vertical-align: middle;\n",
       "    }\n",
       "\n",
       "    .dataframe tbody tr th {\n",
       "        vertical-align: top;\n",
       "    }\n",
       "\n",
       "    .dataframe thead th {\n",
       "        text-align: right;\n",
       "    }\n",
       "</style>\n",
       "<table border=\"1\" class=\"dataframe\">\n",
       "  <thead>\n",
       "    <tr style=\"text-align: right;\">\n",
       "      <th></th>\n",
       "      <th>release_date</th>\n",
       "      <th>movie</th>\n",
       "      <th>production_budget</th>\n",
       "      <th>domestic_gross</th>\n",
       "      <th>worldwide_gross</th>\n",
       "    </tr>\n",
       "    <tr>\n",
       "      <th>id</th>\n",
       "      <th></th>\n",
       "      <th></th>\n",
       "      <th></th>\n",
       "      <th></th>\n",
       "      <th></th>\n",
       "    </tr>\n",
       "  </thead>\n",
       "  <tbody>\n",
       "    <tr>\n",
       "      <th>1</th>\n",
       "      <td>2009-12-18</td>\n",
       "      <td>Avatar</td>\n",
       "      <td>425000000</td>\n",
       "      <td>760507625</td>\n",
       "      <td>2776345279</td>\n",
       "    </tr>\n",
       "    <tr>\n",
       "      <th>2</th>\n",
       "      <td>2011-05-20</td>\n",
       "      <td>Pirates of the Caribbean: On Stranger Tides</td>\n",
       "      <td>410600000</td>\n",
       "      <td>241063875</td>\n",
       "      <td>1045663875</td>\n",
       "    </tr>\n",
       "    <tr>\n",
       "      <th>3</th>\n",
       "      <td>2019-06-07</td>\n",
       "      <td>Dark Phoenix</td>\n",
       "      <td>350000000</td>\n",
       "      <td>42762350</td>\n",
       "      <td>149762350</td>\n",
       "    </tr>\n",
       "    <tr>\n",
       "      <th>4</th>\n",
       "      <td>2015-05-01</td>\n",
       "      <td>Avengers: Age of Ultron</td>\n",
       "      <td>330600000</td>\n",
       "      <td>459005868</td>\n",
       "      <td>1403013963</td>\n",
       "    </tr>\n",
       "    <tr>\n",
       "      <th>5</th>\n",
       "      <td>2017-12-15</td>\n",
       "      <td>Star Wars Ep. VIII: The Last Jedi</td>\n",
       "      <td>317000000</td>\n",
       "      <td>620181382</td>\n",
       "      <td>1316721747</td>\n",
       "    </tr>\n",
       "  </tbody>\n",
       "</table>\n",
       "</div>"
      ],
      "text/plain": [
       "   release_date                                        movie  \\\n",
       "id                                                             \n",
       "1    2009-12-18                                       Avatar   \n",
       "2    2011-05-20  Pirates of the Caribbean: On Stranger Tides   \n",
       "3    2019-06-07                                 Dark Phoenix   \n",
       "4    2015-05-01                      Avengers: Age of Ultron   \n",
       "5    2017-12-15            Star Wars Ep. VIII: The Last Jedi   \n",
       "\n",
       "    production_budget  domestic_gross  worldwide_gross  \n",
       "id                                                      \n",
       "1           425000000       760507625       2776345279  \n",
       "2           410600000       241063875       1045663875  \n",
       "3           350000000        42762350        149762350  \n",
       "4           330600000       459005868       1403013963  \n",
       "5           317000000       620181382       1316721747  "
      ]
     },
     "execution_count": 25,
     "metadata": {},
     "output_type": "execute_result"
    }
   ],
   "source": [
    "df3.head()"
   ]
  },
  {
   "cell_type": "code",
   "execution_count": 26,
   "id": "80880e6c",
   "metadata": {},
   "outputs": [
    {
     "data": {
      "text/plain": [
       "count      5782\n",
       "unique        1\n",
       "top       False\n",
       "freq       5782\n",
       "dtype: object"
      ]
     },
     "execution_count": 26,
     "metadata": {},
     "output_type": "execute_result"
    }
   ],
   "source": [
    "df3.duplicated().describe()"
   ]
  },
  {
   "cell_type": "code",
   "execution_count": 27,
   "id": "bf6c7a6c",
   "metadata": {},
   "outputs": [
    {
     "name": "stdout",
     "output_type": "stream",
     "text": [
      "<class 'pandas.core.frame.DataFrame'>\n",
      "Index: 54432 entries, 3 to 2000\n",
      "Data columns (total 7 columns):\n",
      " #   Column      Non-Null Count  Dtype \n",
      "---  ------      --------------  ----- \n",
      " 0   review      48869 non-null  object\n",
      " 1   rating      40915 non-null  object\n",
      " 2   fresh       54432 non-null  object\n",
      " 3   critic      51710 non-null  object\n",
      " 4   top_critic  54432 non-null  int64 \n",
      " 5   publisher   54123 non-null  object\n",
      " 6   date        54432 non-null  object\n",
      "dtypes: int64(1), object(6)\n",
      "memory usage: 3.3+ MB\n"
     ]
    }
   ],
   "source": [
    "df4=pd.read_csv('rt.reviews.tsv', index_col=0,sep='\\t', encoding='Latin-1')#merge\n",
    "df4.info()"
   ]
  },
  {
   "cell_type": "code",
   "execution_count": 28,
   "id": "e9ed23bc",
   "metadata": {},
   "outputs": [],
   "source": [
    "df4['date'] = pd.to_datetime(df4['date'], errors='coerce')\n",
    "df4['date'] = df4['date'].dt.date"
   ]
  },
  {
   "cell_type": "code",
   "execution_count": 29,
   "id": "661b4111",
   "metadata": {},
   "outputs": [
    {
     "data": {
      "text/plain": [
       "count     54432\n",
       "unique        2\n",
       "top       False\n",
       "freq      52309\n",
       "dtype: object"
      ]
     },
     "execution_count": 29,
     "metadata": {},
     "output_type": "execute_result"
    }
   ],
   "source": [
    "df4.duplicated().describe()"
   ]
  },
  {
   "cell_type": "code",
   "execution_count": 30,
   "id": "4bcffee0",
   "metadata": {},
   "outputs": [],
   "source": [
    "df4.drop_duplicates(inplace=True)"
   ]
  },
  {
   "cell_type": "code",
   "execution_count": 31,
   "id": "989c2e42",
   "metadata": {},
   "outputs": [
    {
     "data": {
      "text/plain": [
       "review         3542\n",
       "rating        13484\n",
       "fresh             0\n",
       "critic         2406\n",
       "top_critic        0\n",
       "publisher       308\n",
       "date              0\n",
       "dtype: int64"
      ]
     },
     "execution_count": 31,
     "metadata": {},
     "output_type": "execute_result"
    }
   ],
   "source": [
    "df4.isnull().sum()"
   ]
  },
  {
   "cell_type": "code",
   "execution_count": 32,
   "id": "4a967aec",
   "metadata": {},
   "outputs": [
    {
     "data": {
      "text/plain": [
       "review        0\n",
       "rating        0\n",
       "fresh         0\n",
       "critic        0\n",
       "top_critic    0\n",
       "publisher     0\n",
       "date          0\n",
       "dtype: int64"
      ]
     },
     "execution_count": 32,
     "metadata": {},
     "output_type": "execute_result"
    }
   ],
   "source": [
    "df4['review'].fillna('Unknown', inplace=True)\n",
    "df4['rating'].fillna('Unknown', inplace=True)\n",
    "df4['critic'].fillna('Unknown', inplace=True)\n",
    "df4['publisher'].fillna('Unknown', inplace=True)\n",
    "df4.isnull().sum()"
   ]
  },
  {
   "cell_type": "code",
   "execution_count": 33,
   "id": "5366654f",
   "metadata": {},
   "outputs": [
    {
     "name": "stdout",
     "output_type": "stream",
     "text": [
      "<class 'pandas.core.frame.DataFrame'>\n",
      "Index: 52309 entries, 3 to 2000\n",
      "Data columns (total 7 columns):\n",
      " #   Column      Non-Null Count  Dtype \n",
      "---  ------      --------------  ----- \n",
      " 0   review      52309 non-null  object\n",
      " 1   rating      52309 non-null  object\n",
      " 2   fresh       52309 non-null  object\n",
      " 3   critic      52309 non-null  object\n",
      " 4   top_critic  52309 non-null  int64 \n",
      " 5   publisher   52309 non-null  object\n",
      " 6   date        52309 non-null  object\n",
      "dtypes: int64(1), object(6)\n",
      "memory usage: 3.2+ MB\n"
     ]
    }
   ],
   "source": [
    "df4.info()"
   ]
  },
  {
   "cell_type": "code",
   "execution_count": 34,
   "id": "f2761010",
   "metadata": {},
   "outputs": [
    {
     "name": "stdout",
     "output_type": "stream",
     "text": [
      "<class 'pandas.core.frame.DataFrame'>\n",
      "Index: 1560 entries, 1 to 2000\n",
      "Data columns (total 11 columns):\n",
      " #   Column        Non-Null Count  Dtype \n",
      "---  ------        --------------  ----- \n",
      " 0   synopsis      1498 non-null   object\n",
      " 1   rating        1557 non-null   object\n",
      " 2   genre         1552 non-null   object\n",
      " 3   director      1361 non-null   object\n",
      " 4   writer        1111 non-null   object\n",
      " 5   theater_date  1201 non-null   object\n",
      " 6   dvd_date      1201 non-null   object\n",
      " 7   currency      340 non-null    object\n",
      " 8   box_office    340 non-null    object\n",
      " 9   runtime       1530 non-null   object\n",
      " 10  studio        494 non-null    object\n",
      "dtypes: object(11)\n",
      "memory usage: 146.2+ KB\n"
     ]
    }
   ],
   "source": [
    "df5=pd.read_csv('rt.movie_info.tsv', index_col=0, sep='\\t'  )\n",
    "df5.head()\n",
    "df5.info()"
   ]
  },
  {
   "cell_type": "code",
   "execution_count": 35,
   "id": "7fe8e721",
   "metadata": {},
   "outputs": [
    {
     "data": {
      "text/plain": [
       "synopsis          62\n",
       "rating             3\n",
       "genre              8\n",
       "director         199\n",
       "writer           449\n",
       "theater_date     359\n",
       "dvd_date         359\n",
       "currency        1220\n",
       "box_office      1220\n",
       "runtime           30\n",
       "studio          1066\n",
       "dtype: int64"
      ]
     },
     "execution_count": 35,
     "metadata": {},
     "output_type": "execute_result"
    }
   ],
   "source": [
    "df5.isnull().sum()"
   ]
  },
  {
   "cell_type": "code",
   "execution_count": 36,
   "id": "d602c13a",
   "metadata": {},
   "outputs": [],
   "source": [
    "df5['dvd_date'] = pd.to_datetime(df5['dvd_date'], errors='coerce')\n",
    "df5['dvd_date'] = df5['dvd_date'].dt.date\n",
    "df5['theater_date'] = pd.to_datetime(df5['theater_date'], errors='coerce')\n",
    "df5['theater_date'] = df5['theater_date'].dt.date"
   ]
  },
  {
   "cell_type": "code",
   "execution_count": 37,
   "id": "50eba6b6",
   "metadata": {},
   "outputs": [],
   "source": [
    "def fill_vals(df,columns,value='unknown'):\n",
    "    for column in columns:\n",
    "        df[column].fillna(value, inplace=True)\n",
    "    return df"
   ]
  },
  {
   "cell_type": "code",
   "execution_count": 38,
   "id": "b4e973de",
   "metadata": {},
   "outputs": [],
   "source": [
    "columns=['synopsis','rating','genre','director','writer','theater_date','dvd_date','runtime']\n",
    "df5=fill_vals(df5,columns)\n"
   ]
  },
  {
   "cell_type": "code",
   "execution_count": 39,
   "id": "116c19a7",
   "metadata": {},
   "outputs": [
    {
     "data": {
      "text/html": [
       "<div>\n",
       "<style scoped>\n",
       "    .dataframe tbody tr th:only-of-type {\n",
       "        vertical-align: middle;\n",
       "    }\n",
       "\n",
       "    .dataframe tbody tr th {\n",
       "        vertical-align: top;\n",
       "    }\n",
       "\n",
       "    .dataframe thead th {\n",
       "        text-align: right;\n",
       "    }\n",
       "</style>\n",
       "<table border=\"1\" class=\"dataframe\">\n",
       "  <thead>\n",
       "    <tr style=\"text-align: right;\">\n",
       "      <th></th>\n",
       "      <th>synopsis</th>\n",
       "      <th>rating</th>\n",
       "      <th>genre</th>\n",
       "      <th>director</th>\n",
       "      <th>writer</th>\n",
       "      <th>theater_date</th>\n",
       "      <th>dvd_date</th>\n",
       "      <th>runtime</th>\n",
       "    </tr>\n",
       "    <tr>\n",
       "      <th>id</th>\n",
       "      <th></th>\n",
       "      <th></th>\n",
       "      <th></th>\n",
       "      <th></th>\n",
       "      <th></th>\n",
       "      <th></th>\n",
       "      <th></th>\n",
       "      <th></th>\n",
       "    </tr>\n",
       "  </thead>\n",
       "  <tbody>\n",
       "    <tr>\n",
       "      <th>1</th>\n",
       "      <td>This gritty, fast-paced, and innovative police...</td>\n",
       "      <td>R</td>\n",
       "      <td>Action and Adventure|Classics|Drama</td>\n",
       "      <td>William Friedkin</td>\n",
       "      <td>Ernest Tidyman</td>\n",
       "      <td>1971-10-09</td>\n",
       "      <td>2001-09-25</td>\n",
       "      <td>104 minutes</td>\n",
       "    </tr>\n",
       "    <tr>\n",
       "      <th>3</th>\n",
       "      <td>New York City, not-too-distant-future: Eric Pa...</td>\n",
       "      <td>R</td>\n",
       "      <td>Drama|Science Fiction and Fantasy</td>\n",
       "      <td>David Cronenberg</td>\n",
       "      <td>David Cronenberg|Don DeLillo</td>\n",
       "      <td>2012-08-17</td>\n",
       "      <td>2013-01-01</td>\n",
       "      <td>108 minutes</td>\n",
       "    </tr>\n",
       "    <tr>\n",
       "      <th>5</th>\n",
       "      <td>Illeana Douglas delivers a superb performance ...</td>\n",
       "      <td>R</td>\n",
       "      <td>Drama|Musical and Performing Arts</td>\n",
       "      <td>Allison Anders</td>\n",
       "      <td>Allison Anders</td>\n",
       "      <td>1996-09-13</td>\n",
       "      <td>2000-04-18</td>\n",
       "      <td>116 minutes</td>\n",
       "    </tr>\n",
       "    <tr>\n",
       "      <th>6</th>\n",
       "      <td>Michael Douglas runs afoul of a treacherous su...</td>\n",
       "      <td>R</td>\n",
       "      <td>Drama|Mystery and Suspense</td>\n",
       "      <td>Barry Levinson</td>\n",
       "      <td>Paul Attanasio|Michael Crichton</td>\n",
       "      <td>1994-12-09</td>\n",
       "      <td>1997-08-27</td>\n",
       "      <td>128 minutes</td>\n",
       "    </tr>\n",
       "    <tr>\n",
       "      <th>7</th>\n",
       "      <td>unknown</td>\n",
       "      <td>NR</td>\n",
       "      <td>Drama|Romance</td>\n",
       "      <td>Rodney Bennett</td>\n",
       "      <td>Giles Cooper</td>\n",
       "      <td>unknown</td>\n",
       "      <td>unknown</td>\n",
       "      <td>200 minutes</td>\n",
       "    </tr>\n",
       "    <tr>\n",
       "      <th>8</th>\n",
       "      <td>The year is 1942. As the Allies unite overseas...</td>\n",
       "      <td>PG</td>\n",
       "      <td>Drama|Kids and Family</td>\n",
       "      <td>Jay Russell</td>\n",
       "      <td>Gail Gilchriest</td>\n",
       "      <td>2000-03-03</td>\n",
       "      <td>2000-07-11</td>\n",
       "      <td>95 minutes</td>\n",
       "    </tr>\n",
       "    <tr>\n",
       "      <th>10</th>\n",
       "      <td>Some cast and crew from NBC's highly acclaimed...</td>\n",
       "      <td>PG-13</td>\n",
       "      <td>Comedy</td>\n",
       "      <td>Jake Kasdan</td>\n",
       "      <td>Mike White</td>\n",
       "      <td>2002-01-11</td>\n",
       "      <td>2002-06-18</td>\n",
       "      <td>82 minutes</td>\n",
       "    </tr>\n",
       "    <tr>\n",
       "      <th>13</th>\n",
       "      <td>Stewart Kane, an Irishman living in the Austra...</td>\n",
       "      <td>R</td>\n",
       "      <td>Drama</td>\n",
       "      <td>Ray Lawrence</td>\n",
       "      <td>Raymond Carver|Beatrix Christian</td>\n",
       "      <td>2006-04-27</td>\n",
       "      <td>2007-10-02</td>\n",
       "      <td>123 minutes</td>\n",
       "    </tr>\n",
       "    <tr>\n",
       "      <th>14</th>\n",
       "      <td>\"Love Ranch\" is a bittersweet love story that ...</td>\n",
       "      <td>R</td>\n",
       "      <td>Drama</td>\n",
       "      <td>Taylor Hackford</td>\n",
       "      <td>Mark Jacobson</td>\n",
       "      <td>2010-06-30</td>\n",
       "      <td>2010-11-09</td>\n",
       "      <td>117 minutes</td>\n",
       "    </tr>\n",
       "    <tr>\n",
       "      <th>15</th>\n",
       "      <td>When a diamond expedition in the Congo is lost...</td>\n",
       "      <td>PG-13</td>\n",
       "      <td>Action and Adventure|Mystery and Suspense|Scie...</td>\n",
       "      <td>Frank Marshall</td>\n",
       "      <td>John Patrick Shanley</td>\n",
       "      <td>1995-06-09</td>\n",
       "      <td>1999-07-27</td>\n",
       "      <td>108 minutes</td>\n",
       "    </tr>\n",
       "  </tbody>\n",
       "</table>\n",
       "</div>"
      ],
      "text/plain": [
       "                                             synopsis rating  \\\n",
       "id                                                             \n",
       "1   This gritty, fast-paced, and innovative police...      R   \n",
       "3   New York City, not-too-distant-future: Eric Pa...      R   \n",
       "5   Illeana Douglas delivers a superb performance ...      R   \n",
       "6   Michael Douglas runs afoul of a treacherous su...      R   \n",
       "7                                             unknown     NR   \n",
       "8   The year is 1942. As the Allies unite overseas...     PG   \n",
       "10  Some cast and crew from NBC's highly acclaimed...  PG-13   \n",
       "13  Stewart Kane, an Irishman living in the Austra...      R   \n",
       "14  \"Love Ranch\" is a bittersweet love story that ...      R   \n",
       "15  When a diamond expedition in the Congo is lost...  PG-13   \n",
       "\n",
       "                                                genre          director  \\\n",
       "id                                                                        \n",
       "1                 Action and Adventure|Classics|Drama  William Friedkin   \n",
       "3                   Drama|Science Fiction and Fantasy  David Cronenberg   \n",
       "5                   Drama|Musical and Performing Arts    Allison Anders   \n",
       "6                          Drama|Mystery and Suspense    Barry Levinson   \n",
       "7                                       Drama|Romance    Rodney Bennett   \n",
       "8                               Drama|Kids and Family       Jay Russell   \n",
       "10                                             Comedy       Jake Kasdan   \n",
       "13                                              Drama      Ray Lawrence   \n",
       "14                                              Drama   Taylor Hackford   \n",
       "15  Action and Adventure|Mystery and Suspense|Scie...    Frank Marshall   \n",
       "\n",
       "                              writer theater_date    dvd_date      runtime  \n",
       "id                                                                          \n",
       "1                     Ernest Tidyman   1971-10-09  2001-09-25  104 minutes  \n",
       "3       David Cronenberg|Don DeLillo   2012-08-17  2013-01-01  108 minutes  \n",
       "5                     Allison Anders   1996-09-13  2000-04-18  116 minutes  \n",
       "6    Paul Attanasio|Michael Crichton   1994-12-09  1997-08-27  128 minutes  \n",
       "7                       Giles Cooper      unknown     unknown  200 minutes  \n",
       "8                    Gail Gilchriest   2000-03-03  2000-07-11   95 minutes  \n",
       "10                        Mike White   2002-01-11  2002-06-18   82 minutes  \n",
       "13  Raymond Carver|Beatrix Christian   2006-04-27  2007-10-02  123 minutes  \n",
       "14                     Mark Jacobson   2010-06-30  2010-11-09  117 minutes  \n",
       "15              John Patrick Shanley   1995-06-09  1999-07-27  108 minutes  "
      ]
     },
     "execution_count": 39,
     "metadata": {},
     "output_type": "execute_result"
    }
   ],
   "source": [
    "df5.drop('currency',axis=1,inplace=True)\n",
    "df5.drop('box_office',axis=1,inplace=True)\n",
    "df5.drop('studio',axis=1,inplace=True)\n",
    "df5.head(10)"
   ]
  },
  {
   "cell_type": "code",
   "execution_count": 40,
   "id": "26be8ea3",
   "metadata": {},
   "outputs": [
    {
     "data": {
      "text/plain": [
       "count     25497\n",
       "unique        1\n",
       "top       False\n",
       "freq      25497\n",
       "dtype: object"
      ]
     },
     "execution_count": 40,
     "metadata": {},
     "output_type": "execute_result"
    }
   ],
   "source": [
    "df2.duplicated().describe()"
   ]
  },
  {
   "cell_type": "code",
   "execution_count": 41,
   "id": "974a52dc",
   "metadata": {},
   "outputs": [],
   "source": [
    "import sqlite3\n",
    "import pandas as pd"
   ]
  },
  {
   "cell_type": "code",
   "execution_count": 42,
   "id": "9ee26a0e",
   "metadata": {},
   "outputs": [],
   "source": [
    "conn = sqlite3.connect('im.db')\n",
    "\n",
    "cursor = conn.cursor()"
   ]
  },
  {
   "cell_type": "code",
   "execution_count": 43,
   "id": "a0bde34d",
   "metadata": {},
   "outputs": [
    {
     "data": {
      "text/html": [
       "<div>\n",
       "<style scoped>\n",
       "    .dataframe tbody tr th:only-of-type {\n",
       "        vertical-align: middle;\n",
       "    }\n",
       "\n",
       "    .dataframe tbody tr th {\n",
       "        vertical-align: top;\n",
       "    }\n",
       "\n",
       "    .dataframe thead th {\n",
       "        text-align: right;\n",
       "    }\n",
       "</style>\n",
       "<table border=\"1\" class=\"dataframe\">\n",
       "  <thead>\n",
       "    <tr style=\"text-align: right;\">\n",
       "      <th></th>\n",
       "      <th>type</th>\n",
       "      <th>name</th>\n",
       "      <th>tbl_name</th>\n",
       "      <th>rootpage</th>\n",
       "      <th>sql</th>\n",
       "    </tr>\n",
       "  </thead>\n",
       "  <tbody>\n",
       "  </tbody>\n",
       "</table>\n",
       "</div>"
      ],
      "text/plain": [
       "Empty DataFrame\n",
       "Columns: [type, name, tbl_name, rootpage, sql]\n",
       "Index: []"
      ]
     },
     "execution_count": 43,
     "metadata": {},
     "output_type": "execute_result"
    }
   ],
   "source": [
    "table_name_query = \"\"\"SELECT * \n",
    "                      FROM sqlite_master \n",
    "                      WHERE type='table';\"\"\"\n",
    "\n",
    "pd.read_sql(table_name_query, conn)"
   ]
  },
  {
   "cell_type": "code",
   "execution_count": 44,
   "id": "8bdcfddc",
   "metadata": {},
   "outputs": [
    {
     "ename": "DatabaseError",
     "evalue": "Execution failed on sql 'SELECT * \n                      FROM movie_basics;': no such table: movie_basics",
     "output_type": "error",
     "traceback": [
      "\u001b[1;31m---------------------------------------------------------------------------\u001b[0m",
      "\u001b[1;31mOperationalError\u001b[0m                          Traceback (most recent call last)",
      "File \u001b[1;32m~\\anaconda3\\Lib\\site-packages\\pandas\\io\\sql.py:2262\u001b[0m, in \u001b[0;36mSQLiteDatabase.execute\u001b[1;34m(self, sql, params)\u001b[0m\n\u001b[0;32m   2261\u001b[0m \u001b[38;5;28;01mtry\u001b[39;00m:\n\u001b[1;32m-> 2262\u001b[0m     cur\u001b[38;5;241m.\u001b[39mexecute(sql, \u001b[38;5;241m*\u001b[39margs)\n\u001b[0;32m   2263\u001b[0m     \u001b[38;5;28;01mreturn\u001b[39;00m cur\n",
      "\u001b[1;31mOperationalError\u001b[0m: no such table: movie_basics",
      "\nThe above exception was the direct cause of the following exception:\n",
      "\u001b[1;31mDatabaseError\u001b[0m                             Traceback (most recent call last)",
      "Cell \u001b[1;32mIn[44], line 3\u001b[0m\n\u001b[0;32m      1\u001b[0m table_0_name_query \u001b[38;5;241m=\u001b[39m \u001b[38;5;124m\"\"\"\u001b[39m\u001b[38;5;124mSELECT * \u001b[39m\n\u001b[0;32m      2\u001b[0m \u001b[38;5;124m                      FROM movie_basics;\u001b[39m\u001b[38;5;124m\"\"\"\u001b[39m\n\u001b[1;32m----> 3\u001b[0m movie_basics \u001b[38;5;241m=\u001b[39m pd\u001b[38;5;241m.\u001b[39mread_sql(table_0_name_query, conn)\n\u001b[0;32m      4\u001b[0m movie_basics\n",
      "File \u001b[1;32m~\\anaconda3\\Lib\\site-packages\\pandas\\io\\sql.py:654\u001b[0m, in \u001b[0;36mread_sql\u001b[1;34m(sql, con, index_col, coerce_float, params, parse_dates, columns, chunksize, dtype_backend, dtype)\u001b[0m\n\u001b[0;32m    652\u001b[0m \u001b[38;5;28;01mwith\u001b[39;00m pandasSQL_builder(con) \u001b[38;5;28;01mas\u001b[39;00m pandas_sql:\n\u001b[0;32m    653\u001b[0m     \u001b[38;5;28;01mif\u001b[39;00m \u001b[38;5;28misinstance\u001b[39m(pandas_sql, SQLiteDatabase):\n\u001b[1;32m--> 654\u001b[0m         \u001b[38;5;28;01mreturn\u001b[39;00m pandas_sql\u001b[38;5;241m.\u001b[39mread_query(\n\u001b[0;32m    655\u001b[0m             sql,\n\u001b[0;32m    656\u001b[0m             index_col\u001b[38;5;241m=\u001b[39mindex_col,\n\u001b[0;32m    657\u001b[0m             params\u001b[38;5;241m=\u001b[39mparams,\n\u001b[0;32m    658\u001b[0m             coerce_float\u001b[38;5;241m=\u001b[39mcoerce_float,\n\u001b[0;32m    659\u001b[0m             parse_dates\u001b[38;5;241m=\u001b[39mparse_dates,\n\u001b[0;32m    660\u001b[0m             chunksize\u001b[38;5;241m=\u001b[39mchunksize,\n\u001b[0;32m    661\u001b[0m             dtype_backend\u001b[38;5;241m=\u001b[39mdtype_backend,\n\u001b[0;32m    662\u001b[0m             dtype\u001b[38;5;241m=\u001b[39mdtype,\n\u001b[0;32m    663\u001b[0m         )\n\u001b[0;32m    665\u001b[0m     \u001b[38;5;28;01mtry\u001b[39;00m:\n\u001b[0;32m    666\u001b[0m         _is_table_name \u001b[38;5;241m=\u001b[39m pandas_sql\u001b[38;5;241m.\u001b[39mhas_table(sql)\n",
      "File \u001b[1;32m~\\anaconda3\\Lib\\site-packages\\pandas\\io\\sql.py:2326\u001b[0m, in \u001b[0;36mSQLiteDatabase.read_query\u001b[1;34m(self, sql, index_col, coerce_float, parse_dates, params, chunksize, dtype, dtype_backend)\u001b[0m\n\u001b[0;32m   2315\u001b[0m \u001b[38;5;28;01mdef\u001b[39;00m \u001b[38;5;21mread_query\u001b[39m(\n\u001b[0;32m   2316\u001b[0m     \u001b[38;5;28mself\u001b[39m,\n\u001b[0;32m   2317\u001b[0m     sql,\n\u001b[1;32m   (...)\u001b[0m\n\u001b[0;32m   2324\u001b[0m     dtype_backend: DtypeBackend \u001b[38;5;241m|\u001b[39m Literal[\u001b[38;5;124m\"\u001b[39m\u001b[38;5;124mnumpy\u001b[39m\u001b[38;5;124m\"\u001b[39m] \u001b[38;5;241m=\u001b[39m \u001b[38;5;124m\"\u001b[39m\u001b[38;5;124mnumpy\u001b[39m\u001b[38;5;124m\"\u001b[39m,\n\u001b[0;32m   2325\u001b[0m ) \u001b[38;5;241m-\u001b[39m\u001b[38;5;241m>\u001b[39m DataFrame \u001b[38;5;241m|\u001b[39m Iterator[DataFrame]:\n\u001b[1;32m-> 2326\u001b[0m     cursor \u001b[38;5;241m=\u001b[39m \u001b[38;5;28mself\u001b[39m\u001b[38;5;241m.\u001b[39mexecute(sql, params)\n\u001b[0;32m   2327\u001b[0m     columns \u001b[38;5;241m=\u001b[39m [col_desc[\u001b[38;5;241m0\u001b[39m] \u001b[38;5;28;01mfor\u001b[39;00m col_desc \u001b[38;5;129;01min\u001b[39;00m cursor\u001b[38;5;241m.\u001b[39mdescription]\n\u001b[0;32m   2329\u001b[0m     \u001b[38;5;28;01mif\u001b[39;00m chunksize \u001b[38;5;129;01mis\u001b[39;00m \u001b[38;5;129;01mnot\u001b[39;00m \u001b[38;5;28;01mNone\u001b[39;00m:\n",
      "File \u001b[1;32m~\\anaconda3\\Lib\\site-packages\\pandas\\io\\sql.py:2274\u001b[0m, in \u001b[0;36mSQLiteDatabase.execute\u001b[1;34m(self, sql, params)\u001b[0m\n\u001b[0;32m   2271\u001b[0m     \u001b[38;5;28;01mraise\u001b[39;00m ex \u001b[38;5;28;01mfrom\u001b[39;00m \u001b[38;5;21;01minner_exc\u001b[39;00m\n\u001b[0;32m   2273\u001b[0m ex \u001b[38;5;241m=\u001b[39m DatabaseError(\u001b[38;5;124mf\u001b[39m\u001b[38;5;124m\"\u001b[39m\u001b[38;5;124mExecution failed on sql \u001b[39m\u001b[38;5;124m'\u001b[39m\u001b[38;5;132;01m{\u001b[39;00msql\u001b[38;5;132;01m}\u001b[39;00m\u001b[38;5;124m'\u001b[39m\u001b[38;5;124m: \u001b[39m\u001b[38;5;132;01m{\u001b[39;00mexc\u001b[38;5;132;01m}\u001b[39;00m\u001b[38;5;124m\"\u001b[39m)\n\u001b[1;32m-> 2274\u001b[0m \u001b[38;5;28;01mraise\u001b[39;00m ex \u001b[38;5;28;01mfrom\u001b[39;00m \u001b[38;5;21;01mexc\u001b[39;00m\n",
      "\u001b[1;31mDatabaseError\u001b[0m: Execution failed on sql 'SELECT * \n                      FROM movie_basics;': no such table: movie_basics"
     ]
    }
   ],
   "source": [
    "table_0_name_query = \"\"\"SELECT * \n",
    "                      FROM movie_basics;\"\"\"\n",
    "movie_basics = pd.read_sql(table_0_name_query, conn)\n",
    "movie_basics"
   ]
  },
  {
   "cell_type": "markdown",
   "id": "85b16ffe",
   "metadata": {},
   "source": [
    "## Analyzing Movie Genres: Popularity and Ratings\n",
    "\n",
    "The aim of this analysis is to identify which movie genres are the most popular and how their popularity correlates with their average viewer ratings. This can help determine whether popularity aligns with quality as perceived by viewers."
   ]
  },
  {
   "cell_type": "markdown",
   "id": "ab9c5962",
   "metadata": {},
   "source": [
    "### 1. Merge Datasets\n",
    "We are working with two main data sources:\n",
    "- `tmdb.movies.csv`: Contains metadata such as `title`, `popularity`, and `vote_average`.\n",
    "- `movie_basics` table from the `im.db` SQLite database: Includes fields like `primary_title`, `genres`, and additional movie identifie\n",
    "**Goal:**  \n",
    "Join these two datasets based on a common movie identifier (e.g., `title` or `original_title`) to enrich the dataset with genre information.rs."
   ]
  },
  {
   "cell_type": "code",
   "execution_count": null,
   "id": "cce38bee",
   "metadata": {},
   "outputs": [],
   "source": [
    "def clean_title(title):\n",
    "    if isinstance(title, str):\n",
    "        return title.lower().strip()\n",
    "    return title\n",
    "\n",
    "df2['original_title_clean'] = df2['original_title'].apply(clean_title)\n",
    "movie_basics['original_title_cleann'] = movie_basics['original_title'].apply(clean_title)\n",
    "\n",
    "merged_movies_1 = pd.merge(\n",
    "    df2,\n",
    "    movie_basics,\n",
    "    how='inner',              \n",
    "    left_on='original_title_clean',\n",
    "    right_on='original_title_cleann'\n",
    ")"
   ]
  },
  {
   "cell_type": "code",
   "execution_count": null,
   "id": "c8412be9",
   "metadata": {},
   "outputs": [],
   "source": [
    "merged_movies_1"
   ]
  },
  {
   "cell_type": "markdown",
   "id": "bd05f200",
   "metadata": {},
   "source": [
    "### 2. Group and Aggregate by Genre\n",
    "Once the data is merged:\n",
    "- Group the data by the `genres` column.\n",
    "- Calculate the **mean popularity** and **mean rating (vote_average)** for each genre."
   ]
  },
  {
   "cell_type": "code",
   "execution_count": null,
   "id": "6f4ce908",
   "metadata": {},
   "outputs": [],
   "source": [
    "grouped_genre_stats = merged_movies_1.groupby('genres').agg({\n",
    "    'vote_average': 'mean',\n",
    "    'popularity': 'mean'\n",
    "}).reset_index()\n",
    "grouped_genre_stats.columns = ['genre_name', 'avg_vote', 'avg_popularity']\n",
    "#round of these to the nearest 2 dp\n",
    "grouped_genre_stats['avg_vote'] = grouped_genre_stats['avg_vote'].round(2)\n",
    "grouped_genre_stats['avg_popularity'] = grouped_genre_stats['avg_popularity'].round(2)\n",
    "\n",
    "grouped_genre_stats"
   ]
  },
  {
   "cell_type": "markdown",
   "id": "1dcd7fdb",
   "metadata": {},
   "source": [
    "### 3. Evaluate Genre Performance\n",
    "With the grouped data, we will:\n",
    "- Rank genres by their average popularity.\n",
    "- Compare popularity scores against average ratings.\n",
    "- Identify which genres are both popular and highly rated."
   ]
  },
  {
   "cell_type": "code",
   "execution_count": null,
   "id": "8f03d0a7",
   "metadata": {},
   "outputs": [],
   "source": [
    "sorted_genre_stats = grouped_genre_stats.sort_values(\n",
    "    by=[ 'avg_popularity', 'avg_vote'], ascending=[False, False]\n",
    ").reset_index(drop=True)\n",
    "sorted_genre_stats.head(10)"
   ]
  },
  {
   "cell_type": "markdown",
   "id": "86a01f24",
   "metadata": {},
   "source": [
    "##  Conclusion\n",
    "\n",
    "From our analysis, we observed that genres like **Family, Fantasy, Musical** and **Adventure, Fantasy, Mystery** have the highest average popularity scores, with values around 29. However, this doesn't always translate to quality in terms of viewer satisfaction. For example, **Action, Fantasy, Thriller** and **Action, Adventure, Fantasy** have relatively low average ratings despite decent popularity.\n",
    "\n",
    "Notably, some of the highest-rated genres, such as **Adventure, Biography, Crime** (7.40) and **Drama, Horror, Music** (7.30), don't lead in popularity — suggesting that critical acclaim and audience appreciation are not solely driven by hype or mass appeal.\n",
    "\n",
    " **Key Insight:**  \n",
    "While popularity can indicate trends and audience interest, **it is not the sole measure of success**. In the film industry, what ultimately matters most is **profitability** — the financial return a genre brings in. A genre with moderate popularity but high profitability can be more valuable than one with high visibility but low returns.\n",
    "\n",
    "Therefore, the next analysis factors in **profit margins** alongside popularity and ratings to gain a more complete picture of a genre's performance and true value in the market.\n"
   ]
  },
  {
   "cell_type": "markdown",
   "id": "dba41403",
   "metadata": {},
   "source": [
    "## Analyzing Movie Genres by Profitability\n",
    "\n",
    "\n",
    "\n",
    "## Step-by-Step Profitability Analysis\n",
    "\n",
    "### 1. Calculate Profit\n",
    "We begin by using the `tn.movie_budgets.csv` file, which includes financial details for various movies:\n",
    "\n",
    "- **Columns used**:  \n",
    "  - `production_budget`  \n",
    "  - `worldwide_gross`  \n",
    "\n",
    "To get the profit for each movie, we use the formula:\n",
    "\n",
    "profit = worldwide_gross - production_budget"
   ]
  },
  {
   "cell_type": "code",
   "execution_count": null,
   "id": "d2557109",
   "metadata": {},
   "outputs": [],
   "source": [
    "df3['profit'] = df3['worldwide_gross'] - df3['production_budget']"
   ]
  },
  {
   "cell_type": "code",
   "execution_count": null,
   "id": "f50f5ea2",
   "metadata": {},
   "outputs": [],
   "source": [
    "df3"
   ]
  },
  {
   "cell_type": "markdown",
   "id": "879e2b13",
   "metadata": {},
   "source": [
    "This gives us a clear picture of the net gain for each title.\n",
    "\n",
    "---\n",
    "\n",
    "### 2. Merge Datasets\n",
    "Next, we merge the newly created profit data with the `movie_basics` table from the `im.db` SQLite database. This merge helps us map each movie's profit to its corresponding **genre**.\n",
    "\n",
    "We ensure that both datasets have a common key, which is `primary_title` or `original_title`, to facilitate the merge.\n",
    "\n",
    "---"
   ]
  },
  {
   "cell_type": "code",
   "execution_count": null,
   "id": "1d991f25",
   "metadata": {},
   "outputs": [],
   "source": [
    "df3['movie_clean'] = df3['movie'].str.lower().str.strip()\n",
    "movie_basics['primary_title_clean'] = movie_basics['primary_title'].str.lower().str.strip()\n",
    "\n",
    "\n",
    "merged_movies_2 = pd.merge(\n",
    "    df3,\n",
    "    movie_basics,\n",
    "    how='inner',\n",
    "    left_on='movie_clean',\n",
    "    right_on='primary_title_clean'\n",
    ")"
   ]
  },
  {
   "cell_type": "code",
   "execution_count": null,
   "id": "594ee48d",
   "metadata": {},
   "outputs": [],
   "source": [
    "merged_movies_2.head()"
   ]
  },
  {
   "cell_type": "markdown",
   "id": "877401f3",
   "metadata": {},
   "source": [
    "### 3. Group by Genre and Calculate Average Profit\n",
    "After merging:\n",
    "- We group the dataset by the `genres` column.\n",
    "- For each genre, we calculate the **average profit**.\n",
    "\n",
    "The result is a concise table showing:\n",
    "- `genre_name`\n",
    "- `avg_profit`"
   ]
  },
  {
   "cell_type": "code",
   "execution_count": null,
   "id": "71f067bc",
   "metadata": {},
   "outputs": [],
   "source": [
    "grouped_genre_stats = merged_movies_2.groupby('genres').agg({\n",
    "    'profit': 'mean',\n",
    "}).reset_index()\n",
    "\n",
    "grouped_genre_stats.columns = ['genre_name', 'avg_profit']\n",
    "grouped_genre_stats"
   ]
  },
  {
   "cell_type": "markdown",
   "id": "c5de49e6",
   "metadata": {},
   "source": [
    "### 4. Combine with Previous Results (Ratings & Popularity)\n",
    "To get a more holistic view, we now combine this new **profitability table** with the one we previously created, which includes:\n",
    "- `avg_vote` (average rating)\n",
    "- `avg_popularity` (audience interest)\n",
    "\n",
    "This combined table allows us to compare:\n",
    "- **Popularity**\n",
    "- **Viewer Ratings**\n",
    "- **Financial Performance**  \n",
    "…all in one place.\n",
    "\n"
   ]
  },
  {
   "cell_type": "code",
   "execution_count": null,
   "id": "85558061",
   "metadata": {},
   "outputs": [],
   "source": [
    "merged_movies_3 = pd.merge(\n",
    "    grouped_genre_stats,\n",
    "    sorted_genre_stats,\n",
    "    how='inner',\n",
    "    left_on='genre_name',\n",
    "    right_on='genre_name'\n",
    ")"
   ]
  },
  {
   "cell_type": "code",
   "execution_count": null,
   "id": "85aca8ba",
   "metadata": {},
   "outputs": [],
   "source": [
    "merged_movies_3"
   ]
  },
  {
   "cell_type": "markdown",
   "id": "c32b7a60",
   "metadata": {},
   "source": [
    "### 5. Sort and Visualize\n",
    "- We sort the final combined table by `avg_profit` in descending order to identify the most profitable genres.\n",
    "- Then, we generate a **bar graph** to visualize the **Top 10 genres by profitability**.\n",
    "\n",
    "This chart will help us see at a glance which genres dominate financially.\n",
    "\n"
   ]
  },
  {
   "cell_type": "code",
   "execution_count": null,
   "id": "6593ebd1",
   "metadata": {},
   "outputs": [],
   "source": [
    "df4=merged_movies_3.sort_values(\n",
    "    by=[ 'avg_profit','avg_popularity'], ascending=[False, False]\n",
    ").reset_index(drop=True).head(10)\n",
    "df4"
   ]
  },
  {
   "cell_type": "code",
   "execution_count": null,
   "id": "2e1efb87",
   "metadata": {},
   "outputs": [],
   "source": [
    "import pandas as pd\n",
    "import seaborn as sns\n",
    "import matplotlib.pyplot as plt\n",
    "\n",
    "plt.figure(figsize=(12, 6))\n",
    "sns.barplot(x=df4['genre_name'], y=df4['avg_profit'], color='deepskyblue')\n",
    "\n",
    "plt.title('Top 10 Genres by Average Profit', fontsize=16)\n",
    "plt.xlabel('Genre', fontsize=12)\n",
    "plt.ylabel('Average Profit (USD)', fontsize=12)\n",
    "plt.xticks(rotation=45, ha='right', fontsize=10)  # Rotate labels\n",
    "plt.yticks(fontsize=10)\n",
    "plt.grid(axis='y', linestyle='--', alpha=0.8)\n",
    "\n",
    "plt.tight_layout()\n",
    "plt.show()"
   ]
  },
  {
   "cell_type": "markdown",
   "id": "21bbc291",
   "metadata": {},
   "source": [
    "##  Conclusion: Profitability Over Popularity\n",
    "\n",
    "The bar graph of the top 10 most profitable genres highlights a compelling trend: genres like **Fantasy, Romance** and **Adventure, Drama, Sport** significantly outperform others, each generating over **$1 billion** in average profit. These are followed closely by **Family, Fantasy, Musical** and **Adventure, Fantasy**, reinforcing the dominance of hybrid genres that blend escapism, emotion, and broad audience appeal.\n",
    "\n",
    "This analysis confirms that **profitability does not always align with popularity or ratings**. While some genres may receive high ratings or viral attention, they don't always yield high financial returns.\n",
    "\n",
    "\n",
    "##  Final Thought\n",
    "Profitability is the most critical metric in determining a film’s success. Studios should focus not only on what’s trending or critically acclaimed, but on what **consistently brings returns**. Data-driven strategies using genre-based profitability can provide a major edge in film production planning.\n"
   ]
  },
  {
   "cell_type": "code",
   "execution_count": null,
   "id": "051fa4ef",
   "metadata": {},
   "outputs": [],
   "source": [
    "\n",
    "\n",
    "plt.figure(figsize=(8, 5))\n",
    "\n",
    "\n",
    "sns.regplot(\n",
    "    data=merged_movies_3,\n",
    "    x='avg_popularity',\n",
    "    y='avg_profit',\n",
    "    scatter=True,        \n",
    "    color='dodgerblue',  \n",
    "    line_kws={'linewidth': 2}\n",
    ")\n",
    "\n",
    "plt.title('Popularity vs Profit with Line of Best Fit', fontsize=14)\n",
    "plt.xlabel('Average Popularity')\n",
    "plt.ylabel('Average Profit')\n",
    "plt.grid(True)\n",
    "plt.tight_layout()\n",
    "plt.show()"
   ]
  },
  {
   "cell_type": "code",
   "execution_count": null,
   "id": "e3898951",
   "metadata": {},
   "outputs": [],
   "source": [
    "\n",
    "correlation = merged_movies_3[['avg_popularity', 'avg_profit', 'avg_vote']].corr()\n",
    "print(correlation)"
   ]
  },
  {
   "cell_type": "code",
   "execution_count": null,
   "id": "cc509eeb",
   "metadata": {},
   "outputs": [],
   "source": [
    "\n",
    "merged_movies_2['profit'] = merged_movies_2['worldwide_gross'] - merged_movies_2['production_budget']\n",
    "top_genres = merged_movies_2['genres'].value_counts().head(3).index \n",
    "df_anova = merged_movies_2[merged_movies_2['genres'].isin(top_genres)]\n",
    "group1 = df_anova[df_anova['genres'] == top_genres[0]]['profit']\n",
    "group2 = df_anova[df_anova['genres'] == top_genres[1]]['profit']\n",
    "group3 = df_anova[df_anova['genres'] == top_genres[2]]['profit']\n",
    "\n",
    "from scipy.stats import f_oneway\n",
    "\n",
    "f_stat, p_value = f_oneway(group1, group2, group3)\n",
    "print(\"F-statistic:\", f_stat)\n",
    "print(\"P-value:\", p_value)\n",
    "print(len(group1), len(group2), len(group3))"
   ]
  },
  {
   "cell_type": "markdown",
   "id": "3af424c1",
   "metadata": {},
   "source": [
    "## Popularity vs Profit Analysis\n",
    "\n",
    "\n",
    "The scatter plot visualizes the relationship between **average popularity** and **average profit** for different movie genres. A line of best fit is included to reveal the overall trend.\n",
    "\n",
    "### Key Observations:\n",
    "- **Positive Correlation**: The line slopes upward, suggesting that as popularity increases, so does profit.\n",
    "- **Variance**: The data is widely scattered, indicating that popularity alone does not guarantee high profits.\n",
    "- A few outlier genres are **highly profitable** despite **average or low popularity**, suggesting hidden factors like budget efficiency or global market appeal.\n",
    "\n",
    "\n",
    "##  Correlation Matrix\n",
    "\n",
    "### Interpretation:\n",
    "- **Popularity and Profit** have a **moderate positive correlation** (**r = 0.40**). This means popular movies tend to be more profitable, but it's not a strong guarantee.\n",
    "- **Votes (ratings)** have **very weak correlation** with both popularity and profit, suggesting that **rating is not a strong predictor of financial success**.\n",
    "\n",
    "###  ANOVA Test Summary: \n",
    "\n",
    "The **ANOVA (Analysis of Variance)** test was used to determine whether there are **statistically significant differences in average profit** among the top 3 most frequent movie genres in the dataset.\n",
    "enres.\n",
    "\n",
    "## Final Conclusions (Based on ANOVA, Correlation, and Scatter Plot)\n",
    "\n",
    "1. **Popularity Is Only Moderately Linked to Profit**\n",
    "   - The correlation coefficient between popularity and profit is **0.403**, showing a weak-to-moderate positive relationship.\n",
    "   - Not all popular genres are profitable.\n",
    "\n",
    "2. **Ratings (Votes) Do Not Predict Profit**\n",
    "   - The correlation between average vote and profit is extremely weak (**r = 0.10**).\n",
    "   - High-rated films do not guarantee high profits.\n",
    "\n",
    "3. **Top Genres Are Equally Profitable**\n",
    "   - The ANOVA test shows **no significant difference in profit** between the top 3 genres.\n",
    "   - Studios shouldn’t assume that just producing more films in a popular genre will generate more profit.\n",
    "\n",
    "---\n",
    "\n",
    "##  Strategic Recommendations\n",
    "\n",
    "### 1. Focus on **Profitable Genres**, Not Just Popular Ones\n",
    "- Use genre-specific profit data instead of relying on trends or volume of production.\n",
    "- Prioritize genres with **historically high ROI**, like *Fantasy-Romance* or *Adventure-Drama-Sport*.\n"
   ]
  },
  {
   "cell_type": "markdown",
   "id": "7eac0c50",
   "metadata": {},
   "source": [
    "<B>WE WILL MERGE THE DATASET AND THEN CLEAN IT ALTOGETHER THIS IS EASIER TO DO IT AT ONCE</B>"
   ]
  },
  {
   "cell_type": "code",
   "execution_count": null,
   "id": "ccc08601",
   "metadata": {},
   "outputs": [],
   "source": [
    "df=pd.read_csv(\"tn.movie_budgets.csv\")\n",
    "df\n"
   ]
  },
  {
   "cell_type": "code",
   "execution_count": null,
   "id": "db5e402e",
   "metadata": {},
   "outputs": [],
   "source": [
    "df2=pd.read_csv(\"tmdb.movies.csv\")\n",
    "df2"
   ]
  },
  {
   "cell_type": "markdown",
   "id": "764dc6d5",
   "metadata": {},
   "source": [
    " I MERGED BEFORE CLEANING TO MAKE IT EASIER FOR ME TO CLEAN"
   ]
  },
  {
   "cell_type": "code",
   "execution_count": null,
   "id": "17b2f908",
   "metadata": {},
   "outputs": [],
   "source": [
    "df3 = pd.merge(df, df2, on=\"id\")\n",
    "df3"
   ]
  },
  {
   "cell_type": "code",
   "execution_count": null,
   "id": "95a9532e",
   "metadata": {},
   "outputs": [],
   "source": [
    "df=df3\n",
    "df"
   ]
  },
  {
   "cell_type": "markdown",
   "id": "1d67313e",
   "metadata": {},
   "source": [
    "WE WILL FIRST CHECK IF THERE ARE NULL VALUES"
   ]
  },
  {
   "cell_type": "code",
   "execution_count": null,
   "id": "474a8658",
   "metadata": {},
   "outputs": [],
   "source": [
    "df.isna().sum()"
   ]
  },
  {
   "cell_type": "markdown",
   "id": "f41a3c5f",
   "metadata": {},
   "source": [
    "HERE WE WILL CHECK FOR OUTLIERS AND ANY DUPLICATED COLUMNS"
   ]
  },
  {
   "cell_type": "code",
   "execution_count": null,
   "id": "85b9d054",
   "metadata": {},
   "outputs": [],
   "source": [
    "df.duplicated().sum().sum()#check for duplicates"
   ]
  },
  {
   "cell_type": "code",
   "execution_count": null,
   "id": "48ea6602",
   "metadata": {},
   "outputs": [],
   "source": [
    "df['release_date'] = df['release_date_x']\n"
   ]
  },
  {
   "cell_type": "code",
   "execution_count": null,
   "id": "553c0f3f",
   "metadata": {},
   "outputs": [],
   "source": [
    "# we will drop duplicated columns different names but same content\n",
    "df.drop(columns=['Unnamed: 0','title','release_date_x','release_date_y','production_budget','genre_ids','original_language','original_title'], inplace=True)\n",
    "df"
   ]
  },
  {
   "cell_type": "markdown",
   "id": "ea376d5c",
   "metadata": {},
   "source": [
    "REMOVE ANY WHITESPACES IN THE MOVIES COLUMN"
   ]
  },
  {
   "cell_type": "code",
   "execution_count": null,
   "id": "0e0a4430",
   "metadata": {},
   "outputs": [],
   "source": [
    "df['movie'].str.strip()"
   ]
  },
  {
   "cell_type": "markdown",
   "id": "4d6cb479",
   "metadata": {},
   "source": [
    "CHANGE THE RELEASE DATE TIME TO THE RIGHT FORMAT"
   ]
  },
  {
   "cell_type": "code",
   "execution_count": null,
   "id": "991538ee",
   "metadata": {},
   "outputs": [],
   "source": [
    "df['release_date'] = pd.to_datetime(df['release_date'], errors='coerce')\n"
   ]
  },
  {
   "cell_type": "code",
   "execution_count": null,
   "id": "28d75f2b",
   "metadata": {},
   "outputs": [],
   "source": [
    "df"
   ]
  },
  {
   "cell_type": "code",
   "execution_count": null,
   "id": "14cc0340",
   "metadata": {},
   "outputs": [],
   "source": [
    "# i  Removed dollar signs and commas from 'domestic_gross' and 'worldwide_gross'\n",
    "\n",
    "money_columns =  ['domestic_gross','worldwide_gross']\n",
    "\n"
   ]
  },
  {
   "cell_type": "code",
   "execution_count": null,
   "id": "ca9b5852",
   "metadata": {},
   "outputs": [],
   "source": [
    "for col in money_columns:\n",
    "    df[col] = df[col].replace('[\\$,]', '', regex=True).astype(int)"
   ]
  },
  {
   "cell_type": "markdown",
   "id": "84d37d74",
   "metadata": {},
   "source": [
    "CHECK IF THERE IS ANY OUTLIERS"
   ]
  },
  {
   "cell_type": "code",
   "execution_count": null,
   "id": "21c5e762",
   "metadata": {},
   "outputs": [],
   "source": [
    "fig, axes = plt.subplots(1, 5, figsize=(20, 5) ,)\n",
    "\n",
    "# Histogram for domestic gross\n",
    "axes[0].hist(df['domestic_gross'], bins=30, )\n",
    "axes[0].set_title('domestic_gross Distribution')\n",
    "axes[0].set_xlabel('domestic_gross')\n",
    "axes[0].set_ylabel('Frequency')\n",
    "\n",
    "# Histogram for worldwide_gross\n",
    "axes[1].hist(df['worldwide_gross'])\n",
    "axes[1].set_title('worldwide_gross Distribution')\n",
    "axes[1].set_xlabel('worldwide_gross')\n",
    "axes[1].set_ylabel('Frequency')\n",
    "\n",
    "# Histogram for popularity\n",
    "axes[2].hist(df['popularity'])\n",
    "axes[2].set_title('popularity Distribution')\n",
    "axes[2].set_xlabel('popularity')\n",
    "axes[2].set_ylabel('Frequency')\n",
    "\n",
    "# Histogram for vote average\n",
    "axes[3].hist(df['vote_average'])\n",
    "axes[3].set_title('vote_average Distribution')\n",
    "axes[3].set_xlabel('vote_average')\n",
    "axes[3].set_ylabel('Frequency')\n",
    "\n",
    "# Histogram for vote_count\n",
    "axes[4].hist(df['vote_count'])\n",
    "axes[4].set_title('vote_count Distribution')\n",
    "axes[4].set_xlabel('vote_count')\n",
    "axes[4].set_ylabel('Frequency')\n",
    "# Adjust spacing\n",
    "plt.tight_layout\n",
    "plt.show()\n"
   ]
  },
  {
   "cell_type": "markdown",
   "id": "9891c2d2",
   "metadata": {},
   "source": [
    "AS YOU CAN OBSERVE THE FOLLOWING:\n",
    "1)THE DOMESTIC_GROSS,WORLDWIDE_GROSSVOTECOUNT AND POPULARITY IS POSIVELY SKEWED AS WE CAN SEE THE TAIL IS TOWARDS THE RIGHT,FOR THE VOTE AVERAGE ITS  LEANING TOWARDS THE LEFT"
   ]
  },
  {
   "cell_type": "code",
   "execution_count": null,
   "id": "d02d9ba9",
   "metadata": {},
   "outputs": [],
   "source": [
    "df_clean = df.dropna(subset=['domestic_gross', 'worldwide_gross'])\n",
    "# i removed null values i suspected there was some outliers"
   ]
  },
  {
   "cell_type": "code",
   "execution_count": null,
   "id": "6f290f4a",
   "metadata": {},
   "outputs": [],
   "source": [
    "columns=['domestic_gross', 'worldwide_gross','popularity','vote_average','vote_count']\n",
    "\n"
   ]
  },
  {
   "cell_type": "code",
   "execution_count": null,
   "id": "39fd57dd",
   "metadata": {},
   "outputs": [],
   "source": [
    "def outliers(df,col):\n",
    "    upper_limit=df[col].mean() +3 *df[col].std()\n",
    "    lower_limit=df[col].mean()-3 * df[col].std()\n",
    "#create a list that will store the index of the outliers\n",
    "    #ls=df.index[(df[cols] <lower_limit) | (df[cols] >upper_limit)]\n",
    "    ls= df[(df[col] < lower_limit) | (df[col] > upper_limit)].index.tolist()\n",
    "\n",
    "    return ls\n"
   ]
  },
  {
   "cell_type": "code",
   "execution_count": null,
   "id": "795499e2",
   "metadata": {},
   "outputs": [],
   "source": [
    "index_list=[]\n",
    "columns = [col for col in columns if col in df.columns]\n",
    "\n",
    "columns=['domestic_gross', 'worldwide_gross','popularity','vote_average','vote_count']\n",
    "\n",
    "for col in columns:\n",
    "    index_list.extend(outliers(df,col))\n",
    "    index_list=list(set(index_list))"
   ]
  },
  {
   "cell_type": "code",
   "execution_count": null,
   "id": "293c016c",
   "metadata": {},
   "outputs": [],
   "source": [
    "df_cleaned=df"
   ]
  },
  {
   "cell_type": "code",
   "execution_count": null,
   "id": "848213ee",
   "metadata": {},
   "outputs": [],
   "source": [
    "df"
   ]
  },
  {
   "cell_type": "markdown",
   "id": "398a8724",
   "metadata": {},
   "source": [
    "<H1><B>Season Grouping</B></H1>\n",
    "THE SEASONS WERE GROUPED INTO TWO:\n",
    "<OL>\n",
    "    <LI>WINTER CHRISTMAS HOLIDAY(NOV-DEC) & SUMMER HOLIDAY(MAY-AUG)</LI>\n",
    "    <LI>NON HOLIDAY/IRREGULAR SEASONS (SPRING,FALL AND EARLIER IN THE YEAR)March - April, September - October, January -    February</LI>\n",
    "</OL>\n",
    "Then we will use the domestic gross,worldwide gross and popularity to see if for sure releasing movies during the holiday and non holiday seasons does increase these three variables"
   ]
  },
  {
   "cell_type": "markdown",
   "id": "ac70044f",
   "metadata": {},
   "source": [
    "<H2>Function to divide the release date into the targeted seasons<H/2>"
   ]
  },
  {
   "cell_type": "code",
   "execution_count": null,
   "id": "b32764bb",
   "metadata": {},
   "outputs": [],
   "source": [
    "df['release_month']=df['release_date'].dt.month_name()\n"
   ]
  },
  {
   "cell_type": "code",
   "execution_count": null,
   "id": "81815b8f",
   "metadata": {},
   "outputs": [],
   "source": [
    "def category_season(release_date):\n",
    "    month = release_date.month\n",
    "    if month in [11, 12]:\n",
    "        return 'Christmas Holiday Season'\n",
    "    elif month in [5, 6, 7, 8]:\n",
    "        return 'Summer Season'\n",
    "    else:\n",
    "        return 'Non-Holiday/Irregular Period'\n",
    "\n"
   ]
  },
  {
   "cell_type": "code",
   "execution_count": null,
   "id": "80b164cf",
   "metadata": {},
   "outputs": [],
   "source": [
    "df['season_group'] = df['release_date'].apply(category_season)\n",
    "\n",
    "\n"
   ]
  },
  {
   "cell_type": "code",
   "execution_count": null,
   "id": "ebec4db0",
   "metadata": {},
   "outputs": [],
   "source": [
    "df"
   ]
  },
  {
   "cell_type": "code",
   "execution_count": null,
   "id": "39c36701",
   "metadata": {},
   "outputs": [],
   "source": [
    "#formulating the hypothesis "
   ]
  },
  {
   "cell_type": "markdown",
   "id": "df696be0",
   "metadata": {},
   "source": [
    "<h5>Null Hypothesis (H0):No difference in terms of popularity the worldwide and domestic gross when movies are released in holiday seasons and non holiday seasons</h5>\n",
    "<h5>Alternative Hypothesis(H1):Difference in terms of popularity the worldwide and domestic gross when movies are released in holidays seasons as compared to to non holiday seasons</h5>\n"
   ]
  },
  {
   "cell_type": "markdown",
   "id": "c28a6b13",
   "metadata": {},
   "source": [
    "<H3>CONDUCTING THE TEST TO REJECT/NOT REJECT THE NULL HYPOTHESIS</H3>"
   ]
  },
  {
   "cell_type": "markdown",
   "id": "8a090cce",
   "metadata": {},
   "source": [
    "WE WILL CONDUCT OUR TEST USING THE MANN WHITNEY U TEST BECAUSE WE HAVE TWO INDEPENDENT GROUPS AND THEY ARE NOT NORMALLY DISTRIBUTED"
   ]
  },
  {
   "cell_type": "markdown",
   "id": "a445f1da",
   "metadata": {},
   "source": [
    "#so i will perform the tests on the three variables popularity,worldwide gross and domestic gross\n",
    "<h3><b>Worldwide Gross<b></h3>"
   ]
  },
  {
   "cell_type": "markdown",
   "id": "4290e370",
   "metadata": {},
   "source": [
    "WE WILL SPLIT THE DATA INTO TWO GROUPS THE HOLIDAY AND NON HOLIDAY SEASONS"
   ]
  },
  {
   "cell_type": "code",
   "execution_count": null,
   "id": "b3f301d5",
   "metadata": {},
   "outputs": [],
   "source": [
    "holiday_movies = df[df['season_group'].str.contains('Christmas Holiday Season|Summer Season')]\n"
   ]
  },
  {
   "cell_type": "code",
   "execution_count": null,
   "id": "ea06ad52",
   "metadata": {},
   "outputs": [],
   "source": [
    "#for non holiday group\n",
    "non_holiday_movies = df[df['season_group'].str.contains('Non-Holiday/Irregular Period')]\n",
    "non_holiday_movies"
   ]
  },
  {
   "cell_type": "code",
   "execution_count": null,
   "id": "800c19bb",
   "metadata": {},
   "outputs": [],
   "source": [
    "# i visualized to see if its a normal distributed graph\n",
    "sns.histplot(holiday_movies['worldwide_gross'], kde=True)\n",
    "plt.title(\"worldwide Gross - Holiday Movies\")\n",
    "plt.show()"
   ]
  },
  {
   "cell_type": "code",
   "execution_count": null,
   "id": "6c978d58",
   "metadata": {},
   "outputs": [],
   "source": [
    "#then  ivisualized for the non holiday\n",
    "sns.histplot(non_holiday_movies['worldwide_gross'], kde=True)\n",
    "plt.title(\"worldwide Gross - Holiday Movies\")\n",
    "plt.show()"
   ]
  },
  {
   "cell_type": "code",
   "execution_count": null,
   "id": "b1344bd3",
   "metadata": {},
   "outputs": [],
   "source": [
    "# we will perform a mann whitney u test on the first variable\n",
    "holiday_worldwide_gross = holiday_movies['worldwide_gross']\n",
    "non_holiday_worldwide_gross = non_holiday_movies['worldwide_gross']"
   ]
  },
  {
   "cell_type": "code",
   "execution_count": null,
   "id": "e2f6abf1",
   "metadata": {},
   "outputs": [],
   "source": [
    "stat_worldwide_gross, p_value_worldwide_gross = stats.mannwhitneyu(holiday_worldwide_gross, non_holiday_worldwide_gross)\n"
   ]
  },
  {
   "cell_type": "code",
   "execution_count": null,
   "id": "4091ef92",
   "metadata": {},
   "outputs": [],
   "source": [
    "print(f\"Mann-Whitney U Test for Worldwide Gross:\")\n",
    "print(f\"U-statistic: {stat_worldwide_gross}, p-value: {p_value_worldwide_gross}\\n\")\n",
    "\n",
    "if p_value_worldwide_gross < 0.05:\n",
    "    print(\"Result: Significant difference in Worldwide Gross between holiday and non-holiday movies.\\n\")\n",
    "else:\n",
    "    print(\"Result: No significant difference in Worldwide Gross between holiday and non-holiday movies.\\n\")"
   ]
  },
  {
   "cell_type": "markdown",
   "id": "2391988c",
   "metadata": {},
   "source": [
    "<B>CONCLUSION FOR THE FIRST VARIABLE</B>"
   ]
  },
  {
   "cell_type": "markdown",
   "id": "d945b495",
   "metadata": {},
   "source": [
    " The p-value is lower than the significance level and so that means releasing during the holiday season indeed has a significant difference as compared to the non-holiday season, so the income is more worldwide during the holiday season."
   ]
  },
  {
   "cell_type": "markdown",
   "id": "ab2316ab",
   "metadata": {},
   "source": [
    "<h3>DOMESTIC_GROSS</h3>"
   ]
  },
  {
   "cell_type": "code",
   "execution_count": null,
   "id": "ea106dca",
   "metadata": {},
   "outputs": [],
   "source": [
    "\n",
    "sns.histplot(holiday_movies['domestic_gross'], kde=True)\n",
    "plt.title(\"domestic Gross - Holiday Movies\")\n",
    "plt.show()"
   ]
  },
  {
   "cell_type": "code",
   "execution_count": null,
   "id": "b5114ad6",
   "metadata": {},
   "outputs": [],
   "source": [
    "\n",
    "sns.histplot(holiday_movies['domestic_gross'], kde=True)\n",
    "plt.title(\"domestic Gross - Holiday Movies\")\n",
    "plt.show()"
   ]
  },
  {
   "cell_type": "code",
   "execution_count": null,
   "id": "358f8713",
   "metadata": {},
   "outputs": [],
   "source": [
    "# we will perform a mann whitney u test on the second variable\n",
    "holiday_domestic_gross = holiday_movies['domestic_gross']\n",
    "non_holiday_domestic_gross = non_holiday_movies['domestic_gross']"
   ]
  },
  {
   "cell_type": "code",
   "execution_count": null,
   "id": "21286270",
   "metadata": {},
   "outputs": [],
   "source": [
    "stat_domestic_gross, p_value_domestic_gross = stats.mannwhitneyu(holiday_domestic_gross, non_holiday_domestic_gross)\n"
   ]
  },
  {
   "cell_type": "code",
   "execution_count": null,
   "id": "f03b8535",
   "metadata": {},
   "outputs": [],
   "source": [
    "print(f\"Mann-Whitney U Test for Domestic Gross:\")\n",
    "print(f\"U-statistic: {stat_domestic_gross}, p-value: {p_value_domestic_gross}\\n\")\n",
    "\n",
    "if p_value_domestic_gross < 0.05:\n",
    "    print(\"Result: Significant difference in domestic Gross between holiday and non-holiday movies.\\n\")\n",
    "else:\n",
    "    print(\"Result: No significant difference in domestic Gross between holiday and non-holiday movies.\\n\")"
   ]
  },
  {
   "cell_type": "markdown",
   "id": "d7cb8106",
   "metadata": {},
   "source": [
    "<B>CONCLUSION FOR THE SECOND VARIABLE</B>"
   ]
  },
  {
   "cell_type": "markdown",
   "id": "8b120ea5",
   "metadata": {},
   "source": [
    "As you can see the p-value is lower than the significance level and so that means whether releasing during the holiday season indeed has a significant difference as compared to non-holiday season, so the income is more worldwide during the holiday season."
   ]
  },
  {
   "cell_type": "markdown",
   "id": "386f87d8",
   "metadata": {},
   "source": [
    "<h3>POPULARITY</h3>"
   ]
  },
  {
   "cell_type": "code",
   "execution_count": null,
   "id": "d7f8e6dc",
   "metadata": {},
   "outputs": [],
   "source": [
    "#WE THEN CHECK THE DISTRIBUTION FOR POPULARITY \n",
    "sns.histplot(holiday_movies['popularity'], kde=True)\n",
    "plt.title(\"popularity - Holiday Movies\")\n",
    "plt.show()"
   ]
  },
  {
   "cell_type": "code",
   "execution_count": null,
   "id": "4dfcbdf3",
   "metadata": {},
   "outputs": [],
   "source": [
    "sns.histplot(non_holiday_movies['popularity'], kde=True)\n",
    "plt.title(\"popularity - Non-Holiday Movies\")\n",
    "plt.show()"
   ]
  },
  {
   "cell_type": "code",
   "execution_count": null,
   "id": "f9877ac4",
   "metadata": {},
   "outputs": [],
   "source": [
    "# we will perform a mann whitney u test on the third variable\n",
    "holiday_popularity = holiday_movies['popularity']\n",
    "non_holiday_popularity = non_holiday_movies['popularity']"
   ]
  },
  {
   "cell_type": "code",
   "execution_count": null,
   "id": "9685f0d7",
   "metadata": {},
   "outputs": [],
   "source": [
    "stat_popularity, p_value_popularity = stats.mannwhitneyu(holiday_popularity, non_holiday_popularity)\n"
   ]
  },
  {
   "cell_type": "code",
   "execution_count": null,
   "id": "1d7f7b3f",
   "metadata": {},
   "outputs": [],
   "source": [
    "print(f\"Mann-Whitney U Test for popularity:\")\n",
    "print(f\"U-statistic: {stat_popularity}, p-value: {p_value_popularity}\\n\")\n",
    "\n",
    "if p_value_popularity < 0.05:\n",
    "    print(\"Result: Significant difference in popularity between holiday and non-holiday movies.\\n\")\n",
    "else:\n",
    "    print(\"Result: No significant difference in popularity between holiday and non-holiday movies.\\n\")"
   ]
  },
  {
   "cell_type": "markdown",
   "id": "3a21be92",
   "metadata": {},
   "source": [
    "<B> IN CONCLUSION </B>"
   ]
  },
  {
   "cell_type": "markdown",
   "id": "220b3ae5",
   "metadata": {},
   "source": [
    "Releasing a movie between the holiday and non-holiday season actually doesn't affect the popularity, but for domestic income and worldwide income, it does affect. so when releasing movies, it's better to release them during the holiday seasons."
   ]
  },
  {
   "cell_type": "markdown",
   "id": "2c03668d",
   "metadata": {},
   "source": []
  },
  {
   "cell_type": "markdown",
   "id": "7d547361",
   "metadata": {},
   "source": []
  },
  {
   "cell_type": "markdown",
   "id": "924d5820",
   "metadata": {},
   "source": [
    "<b>Recommendations<b>\n",
    "    \n",
    "When releasing a movie we  should plan on release during the holiday season this will increase our revenue"
   ]
  },
  {
   "cell_type": "markdown",
   "id": "7ed613b2-c0fb-481c-94f0-065716b23757",
   "metadata": {},
   "source": [
    "# Objective 3: Optimize film budgets to achieve high return on investment.\n"
   ]
  },
  {
   "cell_type": "code",
   "execution_count": null,
   "id": "fda01817-8f37-45b0-a20e-64f70072d6dc",
   "metadata": {},
   "outputs": [],
   "source": [
    "df_budget=pd.read_csv('tn.movie_budgets.csv', index_col=0)#merge\n",
    "df_budget.head()"
   ]
  },
  {
   "cell_type": "code",
   "execution_count": null,
   "id": "fb72bf51-6198-4fca-a6bf-dce274aece20",
   "metadata": {},
   "outputs": [],
   "source": [
    "def clean_conv(df,column):\n",
    "   for column in columns :\n",
    "       df[column] = df[column].str.replace(',', '', regex=False)\n",
    "       df[column] = df[column].str.replace('$', '', regex=False)\n",
    "       df[column] = pd.to_numeric(df[column])\n",
    "   return df"
   ]
  },
  {
   "cell_type": "code",
   "execution_count": null,
   "id": "03c20870-472d-47b5-b163-0debbc3873ae",
   "metadata": {},
   "outputs": [],
   "source": [
    "columns=['production_budget','domestic_gross','worldwide_gross']\n",
    "df_budget=clean_conv(df_budget,columns)"
   ]
  },
  {
   "cell_type": "code",
   "execution_count": null,
   "id": "651f72ef-6d1b-4252-bedf-31ca880b4dd3",
   "metadata": {},
   "outputs": [],
   "source": [
    "df_budget['release_date'] = pd.to_datetime(df_budget['release_date'], errors='coerce')\n",
    "df_budget['release_date'] = df_budget['release_date'].dt.date"
   ]
  },
  {
   "cell_type": "code",
   "execution_count": null,
   "id": "60364f17-fbd0-41aa-9e69-03231de09360",
   "metadata": {},
   "outputs": [],
   "source": [
    "df_budget.duplicated().describe()"
   ]
  },
  {
   "cell_type": "markdown",
   "id": "7379395a-49ca-435a-8622-0878a1ee6af9",
   "metadata": {},
   "source": [
    "### Calculate ROI"
   ]
  },
  {
   "cell_type": "code",
   "execution_count": null,
   "id": "5820f436-067d-4798-8306-f653999c5206",
   "metadata": {},
   "outputs": [],
   "source": [
    "# ROI = (Revenue - Cost) / Cost\n",
    "df_budget['ROI'] = (df_budget['worldwide_gross'] - df_budget['production_budget']) / df_budget['production_budget']\n",
    "df_budget[['movie', 'production_budget', 'worldwide_gross', 'ROI']].sort_values('ROI', ascending=False).head()\n"
   ]
  },
  {
   "cell_type": "code",
   "execution_count": null,
   "id": "500675ee-8882-431f-9b5b-e8db71920d14",
   "metadata": {},
   "outputs": [],
   "source": [
    "#plot ROI vs Budget\n",
    "\n",
    "import seaborn as sns\n",
    "import matplotlib.pyplot as plt\n",
    "\n",
    "plt.figure(figsize=(10, 6))\n",
    "sns.scatterplot(data=df_budget, x='production_budget', y='ROI', alpha=0.5)\n",
    "plt.title('ROI vs Production Budget')\n",
    "plt.xlabel('Production Budget ($)')\n",
    "plt.ylabel('ROI')\n",
    "plt.grid(True)\n",
    "plt.show()"
   ]
  },
  {
   "cell_type": "code",
   "execution_count": null,
   "id": "70bb9140-67f3-4634-9b80-d80103d3b31a",
   "metadata": {},
   "outputs": [],
   "source": [
    "# Create bins for budget ranges\n",
    "df_budget['budget_range'] = pd.cut(df_budget['production_budget'],\n",
    "                                  bins=[0, 10e6, 30e6, 50e6, 100e6, 200e6, df_budget['production_budget'].max()],\n",
    "                                  labels=['<10M', '10M-30M', '30M-50M', '50M-100M', '100M-200M', '200M+'])\n",
    "\n",
    "# Calculate average ROI per bin\n",
    "avg_roi = df_budget.groupby('budget_range')['ROI'].mean().sort_values(ascending=False)\n",
    "\n",
    "# Plot\n",
    "avg_roi.plot(kind='bar', figsize=(8,5), title='Average ROI by Budget Range')\n",
    "plt.ylabel(\"Average ROI\")\n",
    "plt.grid(True)\n",
    "plt.show()\n",
    "\n",
    "avg_roi"
   ]
  },
  {
   "cell_type": "markdown",
   "id": "68f05668-3b7f-4a3a-8fa4-0d4beb5d87f0",
   "metadata": {},
   "source": [
    "## Descriptive Statistics per budget range"
   ]
  },
  {
   "cell_type": "code",
   "execution_count": null,
   "id": "ad7a95c3-3afb-4cbf-be5e-81959fa921cb",
   "metadata": {},
   "outputs": [],
   "source": [
    "df_budget.groupby('budget_range')['ROI'].describe()"
   ]
  },
  {
   "cell_type": "markdown",
   "id": "0c6e2917-09af-4e1e-804e-3fb479bbcac6",
   "metadata": {},
   "source": [
    "### ANOVA Test\n"
   ]
  },
  {
   "cell_type": "code",
   "execution_count": null,
   "id": "a0e5144d-c175-4cb8-87bb-4244c633f86e",
   "metadata": {},
   "outputs": [],
   "source": [
    "from scipy.stats import f_oneway\n",
    "\n",
    "\n",
    "roi_groups = [group['ROI'].dropna().values for name, group in df_budget.groupby('budget_range')]\n",
    "f_stat, p_value = f_oneway(*roi_groups)\n",
    "print(f\"F-statistic: {f_stat:.2f}\")\n",
    "print(f\"P-value: {p_value:.5f}\")"
   ]
  },
  {
   "cell_type": "markdown",
   "id": "f509c8e8-1ca7-4ea4-8a09-1ed49f4bb197",
   "metadata": {},
   "source": [
    "With a p-value of 0.00000, we reject the null hypothesis that all budget ranges have the same average ROI. This confirms that at least one budget range has a significantly different mean ROI. This supports the idea that production budget influences ROI, though further post-hoc analysis (e.g., Tukey’s test) would be needed to pinpoint which specific groups differ."
   ]
  },
  {
   "cell_type": "markdown",
   "id": "9f83dc5a-903d-43b3-8f73-b8dbe1a824eb",
   "metadata": {},
   "source": [
    "## Linear Regression"
   ]
  },
  {
   "cell_type": "code",
   "execution_count": null,
   "id": "6216d411-bb08-4c13-b7a0-6e33902c0f08",
   "metadata": {},
   "outputs": [],
   "source": [
    "from sklearn.linear_model import LinearRegression\n",
    "import numpy as np\n",
    "\n",
    "# Prepare data\n",
    "X = df_budget[['production_budget']]\n",
    "y = df_budget['ROI']\n",
    "\n",
    "# Fit model\n",
    "model = LinearRegression()\n",
    "model.fit(X, y)\n",
    "\n",
    "# Predict\n",
    "df_budget['predicted_ROI'] = model.predict(X)\n",
    "\n",
    "# Plot\n",
    "plt.figure(figsize=(10,6))\n",
    "sns.scatterplot(x='production_budget', y='ROI', data=df_budget, alpha=0.3, label='Actual')\n",
    "plt.plot(df_budget['production_budget'], df_budget['predicted_ROI'], color='red', label='Regression Line')\n",
    "plt.title(\"Linear Regression: Budget vs ROI\")\n",
    "plt.xlabel(\"Production Budget\")\n",
    "plt.ylabel(\"ROI\")\n",
    "plt.legend()\n",
    "plt.grid(True)\n",
    "plt.show()"
   ]
  },
  {
   "cell_type": "code",
   "execution_count": null,
   "id": "e95e26f2-1aec-4ee7-9f93-e4065c2df278",
   "metadata": {},
   "outputs": [],
   "source": [
    "print(f\"R² score: {model.score(X, y):.4f}\")"
   ]
  },
  {
   "cell_type": "markdown",
   "id": "95afdbd6-7847-40f3-85ae-28e92ba73807",
   "metadata": {},
   "source": [
    "While a linear regression was fitted to model the relationship between production budget and ROI, the resulting regression line was nearly flat (close to ROI = 0), and the R² score was extremely low (0.0024). \r\n",
    "\r\n",
    "This suggests that ROI does not follow a linear relationship with production budget. Instead, returns tend to be more favorable at the lowest budget levels, but increasingly volatile and less predictable as budget increases. A nonlinear model or categorical analysis based on budget ranges may yield better insights."
   ]
  },
  {
   "cell_type": "markdown",
   "id": "ab71f7d4-b616-4e5e-b5b1-5cc8dd5610b4",
   "metadata": {},
   "source": [
    "## Chi-Sqaure Test"
   ]
  },
  {
   "cell_type": "markdown",
   "id": "13a3221e-5391-43fc-a25a-ef92e9831312",
   "metadata": {},
   "source": [
    "The Chi-Square test checks whether success rates are independent of budget range. A low p-value indicates that certain budget ranges are more likely to yield successful films, reinforcing the ROI trends."
   ]
  },
  {
   "cell_type": "code",
   "execution_count": null,
   "id": "790e3df9-3ef6-426d-89b1-aa4bfd60de10",
   "metadata": {},
   "outputs": [],
   "source": [
    "import scipy.stats as stats\n",
    "\n",
    "# Define success\n",
    "df_budget['success'] = df_budget['ROI'] > 1\n",
    "\n",
    "# Create contingency\n",
    "contingency = pd.crosstab(df_budget['budget_range'], df_budget['success'])\n",
    "\n",
    "# Chi-square test\n",
    "chi2, p, dof, expected = stats.chi2_contingency(contingency)\n",
    "print(f\"Chi-Square: {chi2:.2f}, p-value: {p:.5f}\")\n"
   ]
  },
  {
   "cell_type": "markdown",
   "id": "54227946-7c2c-4943-9155-7988085c12bf",
   "metadata": {},
   "source": [
    "The very low p-value indicates a statistically significant relationship between budget range and success rate. This suggests that certain budget ranges are more likely to produce successful films, reinforcing the idea that budget plays a critical role in ROI outcomes."
   ]
  },
  {
   "cell_type": "markdown",
   "id": "c8d7ad09-0623-4510-b4e2-8d3db61ec7aa",
   "metadata": {},
   "source": [
    "## T-Test"
   ]
  },
  {
   "cell_type": "markdown",
   "id": "6d4912dc-5a75-468f-8d7a-f82cd0c428ea",
   "metadata": {},
   "source": [
    "The A/B test compares mean ROI between low and high budget films. A significant result could suggest budget allocation strategies for maximizing ROI."
   ]
  },
  {
   "cell_type": "code",
   "execution_count": null,
   "id": "0443cc0f-ba59-4ea5-9f3c-c7be3d3c970e",
   "metadata": {},
   "outputs": [],
   "source": [
    "from scipy.stats import ttest_ind\n",
    "\n",
    "# Create groups\n",
    "low_budget = df_budget[df_budget['budget_range'] == '<10M']['ROI']\n",
    "high_budget = df_budget[df_budget['budget_range'] == '200M+']['ROI']\n",
    "\n",
    "# T-test\n",
    "t_stat, p_val = ttest_ind(low_budget, high_budget, equal_var=False)\n",
    "print(f\"T-statistic: {t_stat:.2f}, p-value: {p_val:.5f}\")"
   ]
  },
  {
   "cell_type": "markdown",
   "id": "12bbd65a-ce69-44e5-8940-6abd6cddf7d0",
   "metadata": {},
   "source": [
    "Since the p-value is well below 0.05, we reject the null hypothesis. This indicates a statistically significant difference in average ROI between low-budget and high-budget films. In fact, low-budget films tend to have much higher ROI on average, which is aligned with the earlier descriptive statistics.\r\n"
   ]
  },
  {
   "cell_type": "markdown",
   "id": "01d8bc04-1ada-4125-9f04-be971bf57580",
   "metadata": {},
   "source": [
    "## CONCLUSION"
   ]
  },
  {
   "cell_type": "markdown",
   "id": "9eb36c75-1c3a-44ce-83ab-e253018f04a7",
   "metadata": {},
   "source": [
    "Our analysis reveals that production budget significantly impacts ROI distribution across films, but not in a linear way. While high-budget films may be more likely to earn large grosses, they do not necessarily produce better returns. Low-budget films, despite their limitations, tend to deliver higher ROI on average. Linear regression failed to explain ROI well, suggesting that other factors — such as genre, release timing, or marketing — may play a larger role. These findings can help guide budget allocation decisions in film production."
   ]
  }
 ],
 "metadata": {
  "kernelspec": {
   "display_name": "Python 3 (ipykernel)",
   "language": "python",
   "name": "python3"
  },
  "language_info": {
   "codemirror_mode": {
    "name": "ipython",
    "version": 3
   },
   "file_extension": ".py",
   "mimetype": "text/x-python",
   "name": "python",
   "nbconvert_exporter": "python",
   "pygments_lexer": "ipython3",
   "version": "3.11.7"
  }
 },
 "nbformat": 4,
 "nbformat_minor": 5
}
